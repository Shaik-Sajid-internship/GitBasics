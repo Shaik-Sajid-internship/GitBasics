{
  "nbformat": 4,
  "nbformat_minor": 0,
  "metadata": {
    "colab": {
      "name": "Day-06.ipynb",
      "provenance": [],
      "collapsed_sections": [],
      "authorship_tag": "ABX9TyMg45Bk3Hc3YemAKQTT6rMR",
      "include_colab_link": true
    },
    "kernelspec": {
      "name": "python3",
      "display_name": "Python 3"
    },
    "language_info": {
      "name": "python"
    }
  },
  "cells": [
    {
      "cell_type": "markdown",
      "metadata": {
        "id": "view-in-github",
        "colab_type": "text"
      },
      "source": [
        "<a href=\"https://colab.research.google.com/github/Shaik-Sajid-internship/GitBasics/blob/master/Day_06.ipynb\" target=\"_parent\"><img src=\"https://colab.research.google.com/assets/colab-badge.svg\" alt=\"Open In Colab\"/></a>"
      ]
    },
    {
      "cell_type": "code",
      "metadata": {
        "id": "rkNUJtNLF_Ex"
      },
      "source": [
        ""
      ],
      "execution_count": null,
      "outputs": []
    },
    {
      "cell_type": "markdown",
      "metadata": {
        "id": "Efvb3YvzF_sr"
      },
      "source": [
        "Day-06-git lass-2"
      ]
    },
    {
      "cell_type": "code",
      "metadata": {
        "id": "H679IK_UGDPg"
      },
      "source": [
        ""
      ],
      "execution_count": null,
      "outputs": []
    },
    {
      "cell_type": "markdown",
      "metadata": {
        "id": "xML3dtcRGETW"
      },
      "source": [
        "29-05-2021:\n",
        "===========\n",
        "\tGood Evening to All....\n",
        "\n",
        "\tIf You have any doubts please reply it in chatbox regarding yesterdays session\n",
        "\n",
        "\tJust wait for a while we are waiting for others to join the session\n",
        "\n",
        "\tTo remove the global username and email:\n",
        "\t----------------------------------------\n",
        "\tgit config --global --unset user.name \n",
        "\tgit config --global --unset user.email\n",
        "\n",
        "\tTo Check the username and email is configured for git push:\n",
        "\t----------------------------------------------------------- \n",
        "\tgit config user.name \"\"\n",
        "\tgit config user.email \"\"\n",
        "\n",
        "\tYesterday:\n",
        "\t==========\n",
        "\t\t-> git init\n",
        "\t\t-> git config user.name \"urname\"\n",
        "\t\t-> git config user.email \"ur mailid\"\n",
        "\t\t-> git remote add \"remotename\" \"branchname[master]\"\n",
        "\t\t-> git remote -v\n",
        "\t\t-> git remote \n",
        "\t\t-> git add .\n",
        "\t\t-> git commit -m \"something message\"\n",
        "\t\t-> git push \"remotename\" \"branchname\"\n",
        "\t\t-> git status\n",
        "\t\t-> git log\n",
        "\t\t-> git remote remove \"remotename\"\n",
        "\t\t-> git log --oneline\n",
        "\n",
        "\tToday:\n",
        "\t======\n",
        "\t\t-> git push => offline => online \n",
        "\t\t-> git pull => online => offline\n",
        "\t\t-> git clone => online => offline\n",
        "\n",
        "\t** Git pull is to changes the folder or files from online to offline\n",
        "\n",
        "\tRamu:[Github => push]\n",
        "\t=====\n",
        "\t\tFolder-1:\n",
        "\t\t\t- sample.c\n",
        "\n",
        "\tGithub:\n",
        "\t=======\n",
        "\t\tFolder-1:\n",
        "\t\t\t- sample.c\n",
        "\t\tFolder-2:\n",
        "\t\t\t- demo.py -> X\n",
        "\n",
        "\tRamu -> offline:\n",
        "\t================\n",
        "\t\tgit pull remotename branchname\n",
        "\t\tFolder-1:\n",
        "\t\t\t- sample.c\n",
        "\t\tFolder-2:\n",
        "\t\t\t- demo.py => X\n",
        "\n",
        "\t\tvi editor\n",
        "\t\t:wq\n",
        "\n",
        "\t-> git log rev-list\n",
        "\t-> git log HEAD --count\n",
        "\t-> git checkout \"commit message sha key\"\n",
        "\t-> git checkout master\n",
        "\n",
        "\t-> git clone\n",
        "\n",
        "\tAccess:\n",
        "\t=======\n",
        "\t-> git clone \"url\"\n",
        "\t-> git pull remotename branchname\n",
        "\t-> git add .\n",
        "\t-> git commit -m \"message\"\n",
        "\t-> git push remotename branchname\n",
        "\n",
        "\t-> git init\n",
        "\t-> git config user.name \"urname\"\n",
        "\t-> git config user.email \"ur email\"\n",
        "\t-> git remote add remotename \"repository url\"\n",
        "\t-> git push remotename branchname\n",
        "\n",
        "\t-> git pull remotename brachname"
      ]
    },
    {
      "cell_type": "code",
      "metadata": {
        "id": "-NqBN7g7GQPx"
      },
      "source": [
        ""
      ],
      "execution_count": null,
      "outputs": []
    }
  ]
}