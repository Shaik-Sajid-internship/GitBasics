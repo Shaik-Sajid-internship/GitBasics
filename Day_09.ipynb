{
  "nbformat": 4,
  "nbformat_minor": 0,
  "metadata": {
    "colab": {
      "name": "Day-09.ipynb",
      "provenance": [],
      "collapsed_sections": [],
      "authorship_tag": "ABX9TyNYMOPA5bdq8VrC8BT+thQI",
      "include_colab_link": true
    },
    "kernelspec": {
      "name": "python3",
      "display_name": "Python 3"
    },
    "language_info": {
      "name": "python"
    }
  },
  "cells": [
    {
      "cell_type": "markdown",
      "metadata": {
        "id": "view-in-github",
        "colab_type": "text"
      },
      "source": [
        "<a href=\"https://colab.research.google.com/github/Shaik-Sajid-internship/GitBasics/blob/master/Day_09.ipynb\" target=\"_parent\"><img src=\"https://colab.research.google.com/assets/colab-badge.svg\" alt=\"Open In Colab\"/></a>"
      ]
    },
    {
      "cell_type": "code",
      "metadata": {
        "colab": {
          "base_uri": "https://localhost:8080/"
        },
        "id": "oqrYIDBeNg24",
        "outputId": "8fc31464-c07e-48f3-b768-81d490bb2aa4"
      },
      "source": [
        "n=\"APSSDC Internship\"\n",
        "print(n)"
      ],
      "execution_count": 1,
      "outputs": [
        {
          "output_type": "stream",
          "text": [
            "APSSDC Internship\n"
          ],
          "name": "stdout"
        }
      ]
    },
    {
      "cell_type": "code",
      "metadata": {
        "colab": {
          "base_uri": "https://localhost:8080/"
        },
        "id": "2mRsFoAcNluR",
        "outputId": "891d4c28-b3f4-4710-bc1f-e3812b7acd21"
      },
      "source": [
        "print(n)\n",
        "print(n[5])\n",
        "print(n[-3])\n",
        "print(n[:])\n",
        "print(n[3:])\n",
        "print(n[:10])\n",
        "print(n[5:12])\n",
        "print(n[9:-3])\n",
        "print(n[-7:11])\n",
        "print(n[-7:-3])"
      ],
      "execution_count": 2,
      "outputs": [
        {
          "output_type": "stream",
          "text": [
            "APSSDC Internship\n",
            "C\n",
            "h\n",
            "APSSDC Internship\n",
            "SDC Internship\n",
            "APSSDC Int\n",
            "C Inter\n",
            "terns\n",
            "e\n",
            "erns\n"
          ],
          "name": "stdout"
        }
      ]
    },
    {
      "cell_type": "code",
      "metadata": {
        "colab": {
          "base_uri": "https://localhost:8080/"
        },
        "id": "SOV-PMRSN2hj",
        "outputId": "94a22e08-50d8-4c2e-b5ef-ba1a9f5e1dc3"
      },
      "source": [
        "print(n)\n",
        "print(n[::])\n",
        "print(n[::2])\n",
        "print(n[::-3])\n",
        "print(n[5::3])\n",
        "print(n[10::-3])\n",
        "print(n[6:10:])\n",
        "print(n[-6:14:])\n",
        "print(n[-10:-5:])\n",
        "print(n[5:10:3])\n",
        "print(n[5:-7:2])"
      ],
      "execution_count": 3,
      "outputs": [
        {
          "output_type": "stream",
          "text": [
            "APSSDC Internship\n",
            "APSSDC Internship\n",
            "ASD nenhp\n",
            "pseIDP\n",
            "Cnrh\n",
            "eIDP\n",
            " Int\n",
            "rns\n",
            "Inter\n",
            "Cn\n",
            "CIt\n"
          ],
          "name": "stdout"
        }
      ]
    },
    {
      "cell_type": "code",
      "metadata": {
        "colab": {
          "base_uri": "https://localhost:8080/"
        },
        "id": "GxJ77hG4OI6h",
        "outputId": "c4a4f1af-35c8-4610-e1ed-7e1a7edb945e"
      },
      "source": [
        "m = str(2397182496874023976487326492374)\n",
        "print(m,type(m))\n",
        "k = int(m[::-1])\n",
        "print(k,type(k))"
      ],
      "execution_count": 4,
      "outputs": [
        {
          "output_type": "stream",
          "text": [
            "2397182496874023976487326492374 <class 'str'>\n",
            "4732946237846793204786942817932 <class 'int'>\n"
          ],
          "name": "stdout"
        }
      ]
    },
    {
      "cell_type": "code",
      "metadata": {
        "colab": {
          "base_uri": "https://localhost:8080/"
        },
        "id": "f1UkNDcMOPQv",
        "outputId": "e00c6c01-eeab-4ebe-fa5a-c5171fe383cd"
      },
      "source": [
        "n = input()\n",
        "print(n[0:2]+\" \"+n[2:-2]+\" \"+n[-2:])"
      ],
      "execution_count": 6,
      "outputs": [
        {
          "output_type": "stream",
          "text": [
            "APSSDC Programs\n",
            "AP SSDC Progra ms\n"
          ],
          "name": "stdout"
        }
      ]
    },
    {
      "cell_type": "code",
      "metadata": {
        "colab": {
          "base_uri": "https://localhost:8080/"
        },
        "id": "XU9U9abkOUXN",
        "outputId": "54843793-900b-41a3-f937-ac6764ab21d8"
      },
      "source": [
        "m = \"APSSDC Programs\"\n",
        "print(m[-2:])"
      ],
      "execution_count": 7,
      "outputs": [
        {
          "output_type": "stream",
          "text": [
            "ms\n"
          ],
          "name": "stdout"
        }
      ]
    },
    {
      "cell_type": "code",
      "metadata": {
        "colab": {
          "base_uri": "https://localhost:8080/"
        },
        "id": "rZDs6qmhOgxZ",
        "outputId": "3adaeec4-79f4-4b4e-8ac7-0937ebece1eb"
      },
      "source": [
        "print(dir(str))"
      ],
      "execution_count": 8,
      "outputs": [
        {
          "output_type": "stream",
          "text": [
            "['__add__', '__class__', '__contains__', '__delattr__', '__dir__', '__doc__', '__eq__', '__format__', '__ge__', '__getattribute__', '__getitem__', '__getnewargs__', '__gt__', '__hash__', '__init__', '__init_subclass__', '__iter__', '__le__', '__len__', '__lt__', '__mod__', '__mul__', '__ne__', '__new__', '__reduce__', '__reduce_ex__', '__repr__', '__rmod__', '__rmul__', '__setattr__', '__sizeof__', '__str__', '__subclasshook__', 'capitalize', 'casefold', 'center', 'count', 'encode', 'endswith', 'expandtabs', 'find', 'format', 'format_map', 'index', 'isalnum', 'isalpha', 'isascii', 'isdecimal', 'isdigit', 'isidentifier', 'islower', 'isnumeric', 'isprintable', 'isspace', 'istitle', 'isupper', 'join', 'ljust', 'lower', 'lstrip', 'maketrans', 'partition', 'replace', 'rfind', 'rindex', 'rjust', 'rpartition', 'rsplit', 'rstrip', 'split', 'splitlines', 'startswith', 'strip', 'swapcase', 'title', 'translate', 'upper', 'zfill']\n"
          ],
          "name": "stdout"
        }
      ]
    },
    {
      "cell_type": "code",
      "metadata": {
        "colab": {
          "base_uri": "https://localhost:8080/"
        },
        "id": "m3NeXMAtOloB",
        "outputId": "e9e32f98-3df6-42d1-ccee-7dc7501a4dd0"
      },
      "source": [
        "b = \"Welcome to APSSDC Programs\"\n",
        "print(b)\n",
        "print(b.capitalize())\n",
        "print(b.casefold())\n",
        "print(b.title())\n",
        "print(b.swapcase())"
      ],
      "execution_count": 9,
      "outputs": [
        {
          "output_type": "stream",
          "text": [
            "Welcome to APSSDC Programs\n",
            "Welcome to apssdc programs\n",
            "welcome to apssdc programs\n",
            "Welcome To Apssdc Programs\n",
            "wELCOME TO apssdc pROGRAMS\n"
          ],
          "name": "stdout"
        }
      ]
    },
    {
      "cell_type": "code",
      "metadata": {
        "colab": {
          "base_uri": "https://localhost:8080/"
        },
        "id": "E9mgF7h6Oveu",
        "outputId": "52990aaf-b087-4507-9aa5-d01872929689"
      },
      "source": [
        "print(b)\n",
        "print(b.upper())\n",
        "print(b.lower())\n",
        "print(b.startswith('W'))\n",
        "print(b.endswith('s'))"
      ],
      "execution_count": 10,
      "outputs": [
        {
          "output_type": "stream",
          "text": [
            "Welcome to APSSDC Programs\n",
            "WELCOME TO APSSDC PROGRAMS\n",
            "welcome to apssdc programs\n",
            "True\n",
            "True\n"
          ],
          "name": "stdout"
        }
      ]
    },
    {
      "cell_type": "code",
      "metadata": {
        "colab": {
          "base_uri": "https://localhost:8080/"
        },
        "id": "MybSnj35OwTp",
        "outputId": "d2012579-8290-43be-bdef-2f75cf8f6d46"
      },
      "source": [
        "print(b)\n",
        "print(b.upper())\n",
        "print(b.lower())\n",
        "print(b.startswith('W'))\n",
        "print(b.endswith('s'))"
      ],
      "execution_count": 11,
      "outputs": [
        {
          "output_type": "stream",
          "text": [
            "Welcome to APSSDC Programs\n",
            "WELCOME TO APSSDC PROGRAMS\n",
            "welcome to apssdc programs\n",
            "True\n",
            "True\n"
          ],
          "name": "stdout"
        }
      ]
    },
    {
      "cell_type": "code",
      "metadata": {
        "colab": {
          "base_uri": "https://localhost:8080/"
        },
        "id": "kygGPxLGO1fA",
        "outputId": "a6fcd478-d730-4841-999c-2fadc3c89a65"
      },
      "source": [
        "print(b)\n",
        "print(b.split())\n",
        "print(b.split('e'))\n",
        "print(b.rsplit('m'))\n",
        "print(b.count('e'))\n",
        "print(b.find('e'))\n",
        "print(b.find('z'))\n",
        "print(b.rfind('e'))\n",
        "print(b.rfind('z'))\n",
        "print(b.index('P'))\n",
        "print(b.rindex('P'))\n",
        "# print(b.index('z')) "
      ],
      "execution_count": 12,
      "outputs": [
        {
          "output_type": "stream",
          "text": [
            "Welcome to APSSDC Programs\n",
            "['Welcome', 'to', 'APSSDC', 'Programs']\n",
            "['W', 'lcom', ' to APSSDC Programs']\n",
            "['Welco', 'e to APSSDC Progra', 's']\n",
            "2\n",
            "1\n",
            "-1\n",
            "6\n",
            "-1\n",
            "12\n",
            "18\n"
          ],
          "name": "stdout"
        }
      ]
    },
    {
      "cell_type": "code",
      "metadata": {
        "colab": {
          "base_uri": "https://localhost:8080/"
        },
        "id": "mQ62FbutO8Ir",
        "outputId": "8f609470-dddc-4f67-9617-ee6174e1e2e0"
      },
      "source": [
        "n = input().split()\n",
        "print(n)"
      ],
      "execution_count": 14,
      "outputs": [
        {
          "output_type": "stream",
          "text": [
            "ramu rajesh kavitha\n",
            "['ramu', 'rajesh', 'kavitha']\n"
          ],
          "name": "stdout"
        }
      ]
    },
    {
      "cell_type": "code",
      "metadata": {
        "colab": {
          "base_uri": "https://localhost:8080/"
        },
        "id": "J0DVlbf6PEqp",
        "outputId": "4732d1ec-e699-4779-8b02-caad6d1dedb8"
      },
      "source": [
        "d = \"      Sample \"\n",
        "e = \"Ramu Tarun        \"\n",
        "print(d)\n",
        "print(e)\n",
        "print(d.strip())\n",
        "print(e.strip())\n",
        "print(d.lstrip())\n",
        "print(e.rstrip())"
      ],
      "execution_count": 15,
      "outputs": [
        {
          "output_type": "stream",
          "text": [
            "      Sample \n",
            "Ramu Tarun        \n",
            "Sample\n",
            "Ramu Tarun\n",
            "Sample \n",
            "Ramu Tarun\n"
          ],
          "name": "stdout"
        }
      ]
    },
    {
      "cell_type": "code",
      "metadata": {
        "colab": {
          "base_uri": "https://localhost:8080/"
        },
        "id": "jcRBtrqHPRm1",
        "outputId": "1f0a661d-35d0-40fa-d99a-40ba93db4c08"
      },
      "source": [
        "print(d)\n",
        "print(d.ljust(50))\n",
        "print(e.ljust(50))\n",
        "print(d.rjust(70))\n",
        "print(e.rjust(70))\n",
        "print(d.zfill(20))\n"
      ],
      "execution_count": 16,
      "outputs": [
        {
          "output_type": "stream",
          "text": [
            "      Sample \n",
            "      Sample                                      \n",
            "Ramu Tarun                                        \n",
            "                                                               Sample \n",
            "                                                    Ramu Tarun        \n",
            "0000000      Sample \n"
          ],
          "name": "stdout"
        }
      ]
    },
    {
      "cell_type": "code",
      "metadata": {
        "colab": {
          "base_uri": "https://localhost:8080/"
        },
        "id": "D5_hF8DgPU3C",
        "outputId": "767ca6c4-f7ee-44a9-cb1d-950418c3ce17"
      },
      "source": [
        "z = \"APSSDC\"\n",
        "p = z.lower()\n",
        "f = z.upper()\n",
        "print(z)\n",
        "print(p)\n",
        "print(f)"
      ],
      "execution_count": 17,
      "outputs": [
        {
          "output_type": "stream",
          "text": [
            "APSSDC\n",
            "apssdc\n",
            "APSSDC\n"
          ],
          "name": "stdout"
        }
      ]
    },
    {
      "cell_type": "code",
      "metadata": {
        "colab": {
          "base_uri": "https://localhost:8080/"
        },
        "id": "iTdPKdltPY8y",
        "outputId": "5977278b-f9d5-4f69-8de4-796cf0593462"
      },
      "source": [
        "print(z)\n",
        "print(z.replace('A','x'))\n",
        "g = d.zfill(20)\n",
        "print(g)\n",
        "print(g.replace('0','A'))"
      ],
      "execution_count": 18,
      "outputs": [
        {
          "output_type": "stream",
          "text": [
            "APSSDC\n",
            "xPSSDC\n",
            "0000000      Sample \n",
            "AAAAAAA      Sample \n"
          ],
          "name": "stdout"
        }
      ]
    },
    {
      "cell_type": "code",
      "metadata": {
        "colab": {
          "base_uri": "https://localhost:8080/"
        },
        "id": "pPVY2zXUPemU",
        "outputId": "5e769a6f-0771-43ae-fe8a-795fd8805428"
      },
      "source": [
        "k = \"Ramesh \"\n",
        "a = \" \".join(k)\n",
        "print(a)\n",
        "print(k)"
      ],
      "execution_count": 19,
      "outputs": [
        {
          "output_type": "stream",
          "text": [
            "R a m e s h  \n",
            "Ramesh \n"
          ],
          "name": "stdout"
        }
      ]
    },
    {
      "cell_type": "code",
      "metadata": {
        "colab": {
          "base_uri": "https://localhost:8080/"
        },
        "id": "7M47okZaPjlu",
        "outputId": "232d3df8-d847-4ff2-c0bb-34955bd04767"
      },
      "source": [
        "t = [\"34\",'45','786']\n",
        "g = \"-\".join(t)\n",
        "print(g)\n",
        "print(t)"
      ],
      "execution_count": 20,
      "outputs": [
        {
          "output_type": "stream",
          "text": [
            "34-45-786\n",
            "['34', '45', '786']\n"
          ],
          "name": "stdout"
        }
      ]
    },
    {
      "cell_type": "code",
      "metadata": {
        "colab": {
          "base_uri": "https://localhost:8080/"
        },
        "id": "-uSwx1Z1PnyQ",
        "outputId": "d0c75e4f-a44b-4448-a97e-cd9ee453732a"
      },
      "source": [
        "n = input().split(\"-\")\n",
        "p = n[2].split()\n",
        "print(n[1]+\" \"+p[1])"
      ],
      "execution_count": 21,
      "outputs": [
        {
          "output_type": "stream",
          "text": [
            "18091A04H9-Santhosh-RGIT 120\n",
            "Santhosh 120\n"
          ],
          "name": "stdout"
        }
      ]
    },
    {
      "cell_type": "code",
      "metadata": {
        "colab": {
          "base_uri": "https://localhost:8080/"
        },
        "id": "fqWxnQDRPttG",
        "outputId": "1f9dc3c8-e217-4234-fdd8-d050da60863b"
      },
      "source": [
        "k = '145SYfg&*$#'\n",
        "for i in k:\n",
        "    print(i,end=\" \")"
      ],
      "execution_count": 22,
      "outputs": [
        {
          "output_type": "stream",
          "text": [
            "1 4 5 S Y f g & * $ # "
          ],
          "name": "stdout"
        }
      ]
    },
    {
      "cell_type": "code",
      "metadata": {
        "colab": {
          "base_uri": "https://localhost:8080/"
        },
        "id": "1M_XyaryP06o",
        "outputId": "46a8332c-c429-481e-bd77-48241681a56b"
      },
      "source": [
        "print(k.isalpha())\n",
        "print(k.isalnum())\n"
      ],
      "execution_count": 23,
      "outputs": [
        {
          "output_type": "stream",
          "text": [
            "False\n",
            "False\n"
          ],
          "name": "stdout"
        }
      ]
    },
    {
      "cell_type": "code",
      "metadata": {
        "colab": {
          "base_uri": "https://localhost:8080/"
        },
        "id": "jL5JoqqhP4bS",
        "outputId": "2e5886c4-0ece-48c7-c06e-208ccd8b8b50"
      },
      "source": [
        "u = \"123SFgt\"\n",
        "i = \"AWEdrt\"\n",
        "print(u.isalnum())\n",
        "print(i.isalpha())"
      ],
      "execution_count": 24,
      "outputs": [
        {
          "output_type": "stream",
          "text": [
            "True\n",
            "True\n"
          ],
          "name": "stdout"
        }
      ]
    },
    {
      "cell_type": "code",
      "metadata": {
        "colab": {
          "base_uri": "https://localhost:8080/",
          "height": 132
        },
        "id": "CbRNylFaP73A",
        "outputId": "8e4122e8-48f8-4f66-fc64-a021c506a971"
      },
      "source": [
        "Input: 145SYfg&*$#\n",
        "\n",
        "Output:\n",
        "    Given string is: 145SYfg&*$#\n",
        "    Alphabets in 145SYfg&*$# is: S Y f g\n",
        "    Numbers in 145SYfg&*$# is: 1 4 5\n",
        "    Special Characters in 145SYfg&*$# is: & * $ #"
      ],
      "execution_count": 25,
      "outputs": [
        {
          "output_type": "error",
          "ename": "SyntaxError",
          "evalue": "ignored",
          "traceback": [
            "\u001b[0;36m  File \u001b[0;32m\"<ipython-input-25-199146004875>\"\u001b[0;36m, line \u001b[0;32m1\u001b[0m\n\u001b[0;31m    Input: 145SYfg&*$#\u001b[0m\n\u001b[0m                 ^\u001b[0m\n\u001b[0;31mSyntaxError\u001b[0m\u001b[0;31m:\u001b[0m invalid syntax\n"
          ]
        }
      ]
    },
    {
      "cell_type": "code",
      "metadata": {
        "id": "xieQA12GQBAy"
      },
      "source": [
        ""
      ],
      "execution_count": null,
      "outputs": []
    }
  ]
}