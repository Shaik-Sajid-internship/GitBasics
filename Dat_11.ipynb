{
  "nbformat": 4,
  "nbformat_minor": 0,
  "metadata": {
    "colab": {
      "name": "Dat-11.ipynb",
      "provenance": [],
      "collapsed_sections": [],
      "authorship_tag": "ABX9TyP1CybVdZfN4RY3X+U84ns1",
      "include_colab_link": true
    },
    "kernelspec": {
      "name": "python3",
      "display_name": "Python 3"
    },
    "language_info": {
      "name": "python"
    }
  },
  "cells": [
    {
      "cell_type": "markdown",
      "metadata": {
        "id": "view-in-github",
        "colab_type": "text"
      },
      "source": [
        "<a href=\"https://colab.research.google.com/github/Shaik-Sajid-internship/GitBasics/blob/master/Dat_11.ipynb\" target=\"_parent\"><img src=\"https://colab.research.google.com/assets/colab-badge.svg\" alt=\"Open In Colab\"/></a>"
      ]
    },
    {
      "cell_type": "code",
      "metadata": {
        "colab": {
          "base_uri": "https://localhost:8080/"
        },
        "id": "EQ-GBLkYUKiL",
        "outputId": "aa374dff-afd9-4fa0-9bc8-6280b4af89ab"
      },
      "source": [
        "# With return type and with arguments\n",
        "# Reading - Main\n",
        "# Prinitng - Main\n",
        "# Logic - Function\n",
        "\n",
        "def printnumbers(k):\n",
        "    j = []\n",
        "    for b in range(1,k+1):\n",
        "        j.append(b)\n",
        "    return j\n",
        "\n",
        "n = int(input())\n",
        "for z in range(1,len(printnumbers(n))+1):\n",
        "    print(z,end=\" \")"
      ],
      "execution_count": 1,
      "outputs": [
        {
          "output_type": "stream",
          "text": [
            "20\n",
            "1 2 3 4 5 6 7 8 9 10 11 12 13 14 15 16 17 18 19 20 "
          ],
          "name": "stdout"
        }
      ]
    },
    {
      "cell_type": "code",
      "metadata": {
        "colab": {
          "base_uri": "https://localhost:8080/"
        },
        "id": "xNK8u2X0URjB",
        "outputId": "a78e7712-c118-47d6-d64a-48e498b3fb4a"
      },
      "source": [
        "# With return type and without arguments\n",
        "# Reading - Function\n",
        "# Prinitng - Main\n",
        "# Logic - Function\n",
        "\n",
        "def evennumbers():\n",
        "    k,c = int(input()),[] \n",
        "    for b in range(1,k+1):\n",
        "        if b%2 == 0:\n",
        "            c.append(b)\n",
        "    return c\n",
        "\n",
        "for z in evennumbers():\n",
        "    print(z,end=\" \")"
      ],
      "execution_count": 2,
      "outputs": [
        {
          "output_type": "stream",
          "text": [
            "20\n",
            "2 4 6 8 10 12 14 16 18 20 "
          ],
          "name": "stdout"
        }
      ]
    },
    {
      "cell_type": "code",
      "metadata": {
        "colab": {
          "base_uri": "https://localhost:8080/"
        },
        "id": "VfBLWwNVUbJ3",
        "outputId": "83d2075b-1f23-41c8-ac0c-4cf195efebe2"
      },
      "source": [
        "# Without return type and with arguments\n",
        "# Reading - Main\n",
        "# Prinitng - Function\n",
        "# Logic - Function\n",
        "\n",
        "def oddnumbers(m):\n",
        "    for i in range(1,m+1):\n",
        "        if i%2!=0:\n",
        "            print(i,end=\" \")\n",
        "    return \n",
        "\n",
        "b = int(input())\n",
        "oddnumbers(b)"
      ],
      "execution_count": 3,
      "outputs": [
        {
          "output_type": "stream",
          "text": [
            "10\n",
            "1 3 5 7 9 "
          ],
          "name": "stdout"
        }
      ]
    },
    {
      "cell_type": "code",
      "metadata": {
        "colab": {
          "base_uri": "https://localhost:8080/"
        },
        "id": "7fvnCwzHUjUE",
        "outputId": "c0e265b5-2376-4c8f-d1e0-a42c6db46a72"
      },
      "source": [
        "# Without return type and without arguments\n",
        "# Reading - Function\n",
        "# Prinitng - Function\n",
        "# Logic - Function\n",
        "\n",
        "def skippingvalues():\n",
        "    n = int(input())\n",
        "    m = int(input())\n",
        "    s = int(input())\n",
        "    for j in range(n,m,s):\n",
        "        print(j,end=\" \")\n",
        "    return \n",
        "\n",
        "skippingvalues()"
      ],
      "execution_count": 4,
      "outputs": [
        {
          "output_type": "stream",
          "text": [
            "20\n",
            "100\n",
            "15\n",
            "20 35 50 65 80 95 "
          ],
          "name": "stdout"
        }
      ]
    },
    {
      "cell_type": "code",
      "metadata": {
        "colab": {
          "base_uri": "https://localhost:8080/",
          "height": 238
        },
        "id": "Mr4mrayMUrOY",
        "outputId": "fc630477-8a44-4f67-c0b3-582ffc1ff699"
      },
      "source": [
        "# required arguments\n",
        "\n",
        "def student(n,a,p):\n",
        "    print(\"Your Name is: {}\\nYour age is: {}\".format(n,a,p))\n",
        "    return \n",
        "\n",
        "name = input(\"Enter a name: \")\n",
        "age = int(input(\"Enter an age: \"))\n",
        "student(name,age)"
      ],
      "execution_count": 5,
      "outputs": [
        {
          "output_type": "stream",
          "text": [
            "Enter a name: yamini\n",
            "Enter an age: 78\n"
          ],
          "name": "stdout"
        },
        {
          "output_type": "error",
          "ename": "TypeError",
          "evalue": "ignored",
          "traceback": [
            "\u001b[0;31m---------------------------------------------------------------------------\u001b[0m",
            "\u001b[0;31mTypeError\u001b[0m                                 Traceback (most recent call last)",
            "\u001b[0;32m<ipython-input-5-f8bb4df23770>\u001b[0m in \u001b[0;36m<module>\u001b[0;34m()\u001b[0m\n\u001b[1;32m      7\u001b[0m \u001b[0mname\u001b[0m \u001b[0;34m=\u001b[0m \u001b[0minput\u001b[0m\u001b[0;34m(\u001b[0m\u001b[0;34m\"Enter a name: \"\u001b[0m\u001b[0;34m)\u001b[0m\u001b[0;34m\u001b[0m\u001b[0;34m\u001b[0m\u001b[0m\n\u001b[1;32m      8\u001b[0m \u001b[0mage\u001b[0m \u001b[0;34m=\u001b[0m \u001b[0mint\u001b[0m\u001b[0;34m(\u001b[0m\u001b[0minput\u001b[0m\u001b[0;34m(\u001b[0m\u001b[0;34m\"Enter an age: \"\u001b[0m\u001b[0;34m)\u001b[0m\u001b[0;34m)\u001b[0m\u001b[0;34m\u001b[0m\u001b[0;34m\u001b[0m\u001b[0m\n\u001b[0;32m----> 9\u001b[0;31m \u001b[0mstudent\u001b[0m\u001b[0;34m(\u001b[0m\u001b[0mname\u001b[0m\u001b[0;34m,\u001b[0m\u001b[0mage\u001b[0m\u001b[0;34m)\u001b[0m\u001b[0;34m\u001b[0m\u001b[0;34m\u001b[0m\u001b[0m\n\u001b[0m",
            "\u001b[0;31mTypeError\u001b[0m: student() missing 1 required positional argument: 'p'"
          ]
        }
      ]
    },
    {
      "cell_type": "code",
      "metadata": {
        "colab": {
          "base_uri": "https://localhost:8080/",
          "height": 220
        },
        "id": "_6CX7tZ5U4d_",
        "outputId": "de7dd049-4002-443f-c406-caeb46aee0bb"
      },
      "source": [
        "# Default arguments\n",
        "\n",
        "def employee(k,n,p=89,s=45000):\n",
        "    print(\"Employee Name is: {}\\nEmployee Age is: {}\\nEmployee Salary is: {}\".format(k,p,s))\n",
        "    return\n",
        "\n",
        "n = input(\"Enter Employee Name: \")\n",
        "# m = int(input(\"Enter Employee Age: \"))\n",
        "employee(n)"
      ],
      "execution_count": 6,
      "outputs": [
        {
          "output_type": "stream",
          "text": [
            "Enter Employee Name: prasad\n"
          ],
          "name": "stdout"
        },
        {
          "output_type": "error",
          "ename": "TypeError",
          "evalue": "ignored",
          "traceback": [
            "\u001b[0;31m---------------------------------------------------------------------------\u001b[0m",
            "\u001b[0;31mTypeError\u001b[0m                                 Traceback (most recent call last)",
            "\u001b[0;32m<ipython-input-6-fa4f6e6acd7f>\u001b[0m in \u001b[0;36m<module>\u001b[0;34m()\u001b[0m\n\u001b[1;32m      7\u001b[0m \u001b[0mn\u001b[0m \u001b[0;34m=\u001b[0m \u001b[0minput\u001b[0m\u001b[0;34m(\u001b[0m\u001b[0;34m\"Enter Employee Name: \"\u001b[0m\u001b[0;34m)\u001b[0m\u001b[0;34m\u001b[0m\u001b[0;34m\u001b[0m\u001b[0m\n\u001b[1;32m      8\u001b[0m \u001b[0;31m# m = int(input(\"Enter Employee Age: \"))\u001b[0m\u001b[0;34m\u001b[0m\u001b[0;34m\u001b[0m\u001b[0;34m\u001b[0m\u001b[0m\n\u001b[0;32m----> 9\u001b[0;31m \u001b[0memployee\u001b[0m\u001b[0;34m(\u001b[0m\u001b[0mn\u001b[0m\u001b[0;34m)\u001b[0m\u001b[0;34m\u001b[0m\u001b[0;34m\u001b[0m\u001b[0m\n\u001b[0m",
            "\u001b[0;31mTypeError\u001b[0m: employee() missing 1 required positional argument: 'n'"
          ]
        }
      ]
    },
    {
      "cell_type": "code",
      "metadata": {
        "colab": {
          "base_uri": "https://localhost:8080/"
        },
        "id": "P-c3RLmMVA-3",
        "outputId": "017c1562-3455-4844-bcb6-2828621e3f73"
      },
      "source": [
        "# Keyword argument\n",
        "\n",
        "def college(y,c):\n",
        "    print(\"Your collegename is: {}\\nYour Year is: {}\".format(c,y))\n",
        "    return\n",
        "\n",
        "# cname = input(\"Enter Your Collegename: \")\n",
        "# year = int(input(\"Enter Your Year: \"))\n",
        "college(c=input(\"Enter Your Collegename: \"),y=int(input(\"Enter Your Year: \")))"
      ],
      "execution_count": 7,
      "outputs": [
        {
          "output_type": "stream",
          "text": [
            "Enter Your Collegename: srn\n",
            "Enter Your Year: 2010\n",
            "Your collegename is: srn\n",
            "Your Year is: 2010\n"
          ],
          "name": "stdout"
        }
      ]
    },
    {
      "cell_type": "code",
      "metadata": {
        "colab": {
          "base_uri": "https://localhost:8080/"
        },
        "id": "FRMaDM7ZVJdP",
        "outputId": "3be91250-7b5a-4597-f5e3-174f8b1b193d"
      },
      "source": [
        "# Variable Length Arguments:\n",
        "\n",
        "def number(y,*p):\n",
        "    print(y,type(y))\n",
        "    print(p,type(p))\n",
        "    b = []\n",
        "    for i in p:\n",
        "        b.append(int(i))\n",
        "    print(sum(b))\n",
        "    return\n",
        "\n",
        "b = int(input())\n",
        "k = input()\n",
        "g = input()\n",
        "number(b,k,g)"
      ],
      "execution_count": 8,
      "outputs": [
        {
          "output_type": "stream",
          "text": [
            "4\n",
            "56\n",
            "4\n",
            "4 <class 'int'>\n",
            "('56', '4') <class 'tuple'>\n",
            "60\n"
          ],
          "name": "stdout"
        }
      ]
    },
    {
      "cell_type": "code",
      "metadata": {
        "colab": {
          "base_uri": "https://localhost:8080/"
        },
        "id": "QT2iVDaCVSZv",
        "outputId": "7a75ce9d-205b-499c-ebee-d404ea7c241c"
      },
      "source": [
        "c = {}\n",
        "def contact(name,*t):\n",
        "    c[name] = t\n",
        "    return c\n",
        "\n",
        "name = input()\n",
        "mobile = int(input())\n",
        "age = int(input())\n",
        "sal = int(input())\n",
        "contact(name,mobile,age,sal)\n",
        "print(c)"
      ],
      "execution_count": 9,
      "outputs": [
        {
          "output_type": "stream",
          "text": [
            "ramu\n",
            "889956421\n",
            "56\n",
            "50000\n",
            "{'ramu': (889956421, 56, 50000)}\n"
          ],
          "name": "stdout"
        }
      ]
    },
    {
      "cell_type": "code",
      "metadata": {
        "id": "Z2FEdBv6Vhal"
      },
      "source": [
        ""
      ],
      "execution_count": 9,
      "outputs": []
    }
  ]
}