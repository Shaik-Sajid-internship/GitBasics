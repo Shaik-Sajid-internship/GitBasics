{
  "nbformat": 4,
  "nbformat_minor": 0,
  "metadata": {
    "colab": {
      "name": "Day-07.ipynb",
      "provenance": [],
      "collapsed_sections": [],
      "authorship_tag": "ABX9TyNbGA2wXCJkncngWaXnnnNy",
      "include_colab_link": true
    },
    "kernelspec": {
      "name": "python3",
      "display_name": "Python 3"
    },
    "language_info": {
      "name": "python"
    }
  },
  "cells": [
    {
      "cell_type": "markdown",
      "metadata": {
        "id": "view-in-github",
        "colab_type": "text"
      },
      "source": [
        "<a href=\"https://colab.research.google.com/github/Shaik-Sajid-internship/GitBasics/blob/master/Day_07.ipynb\" target=\"_parent\"><img src=\"https://colab.research.google.com/assets/colab-badge.svg\" alt=\"Open In Colab\"/></a>"
      ]
    },
    {
      "cell_type": "code",
      "metadata": {
        "id": "DlltKwFKGj28"
      },
      "source": [
        ""
      ],
      "execution_count": null,
      "outputs": []
    },
    {
      "cell_type": "markdown",
      "metadata": {
        "id": "eb3CB_xFGnhD"
      },
      "source": [
        "1-05-2021:\n",
        "==========\t\n",
        "\tGood Evening to All...\n",
        "\n",
        "\tIf You have any doubts please reply it in chat box or else you can unmute and speak\n",
        "\n",
        "\tWe are waiting for others to join the session please intimate to your friends who are joined in Internship\n",
        "\n",
        "\tToday we are going to discuss about python concepts if you need to learn much more on git then prefer github pro book.\n",
        "\n",
        "\tPython Datastructures:\n",
        "\t======================\n",
        "\tPackages and Modules\n",
        "\tFunctions and its types\n",
        "\n",
        "\tOOPs:\n",
        "\tclass,object,Inheritance\n",
        "\tPackages and modules => class,methods,functions\n",
        "\n",
        "\tDjango\n",
        "\n"
      ]
    },
    {
      "cell_type": "code",
      "metadata": {
        "id": "nBaHvgHWGu5b"
      },
      "source": [
        ""
      ],
      "execution_count": null,
      "outputs": []
    }
  ]
}