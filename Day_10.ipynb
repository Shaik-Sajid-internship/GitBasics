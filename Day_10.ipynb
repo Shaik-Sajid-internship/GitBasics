{
  "nbformat": 4,
  "nbformat_minor": 0,
  "metadata": {
    "colab": {
      "name": "Day-10.ipynb",
      "provenance": [],
      "collapsed_sections": [],
      "authorship_tag": "ABX9TyOkYofN/GXE8sQ/KQW5PpFM",
      "include_colab_link": true
    },
    "kernelspec": {
      "name": "python3",
      "display_name": "Python 3"
    },
    "language_info": {
      "name": "python"
    }
  },
  "cells": [
    {
      "cell_type": "markdown",
      "metadata": {
        "id": "view-in-github",
        "colab_type": "text"
      },
      "source": [
        "<a href=\"https://colab.research.google.com/github/Shaik-Sajid-internship/GitBasics/blob/master/Day_10.ipynb\" target=\"_parent\"><img src=\"https://colab.research.google.com/assets/colab-badge.svg\" alt=\"Open In Colab\"/></a>"
      ]
    },
    {
      "cell_type": "code",
      "metadata": {
        "colab": {
          "base_uri": "https://localhost:8080/"
        },
        "id": "eeY1la-5Qg3s",
        "outputId": "2f13be02-e9e2-4496-a896-3e6a34af6534"
      },
      "source": [
        "g = {45,'a',45,120,155,450,\"Ramu\"}\n",
        "print(g)"
      ],
      "execution_count": 1,
      "outputs": [
        {
          "output_type": "stream",
          "text": [
            "{450, 45, 'Ramu', 'a', 155, 120}\n"
          ],
          "name": "stdout"
        }
      ]
    },
    {
      "cell_type": "code",
      "metadata": {
        "colab": {
          "base_uri": "https://localhost:8080/"
        },
        "id": "5UPsg9IfQxOX",
        "outputId": "11867b48-263f-4e41-f3c4-048a1b3ac8f7"
      },
      "source": [
        "g"
      ],
      "execution_count": 2,
      "outputs": [
        {
          "output_type": "execute_result",
          "data": {
            "text/plain": [
              "{120, 155, 45, 450, 'Ramu', 'a'}"
            ]
          },
          "metadata": {
            "tags": []
          },
          "execution_count": 2
        }
      ]
    },
    {
      "cell_type": "code",
      "metadata": {
        "colab": {
          "base_uri": "https://localhost:8080/"
        },
        "id": "_57wyvTrQzkL",
        "outputId": "e8cd5875-48ec-4ea4-a761-da086aed1f35"
      },
      "source": [
        "h = {}\n",
        "m = {2}\n",
        "print(h,type(h))\n",
        "print(m,type(m))"
      ],
      "execution_count": 3,
      "outputs": [
        {
          "output_type": "stream",
          "text": [
            "{} <class 'dict'>\n",
            "{2} <class 'set'>\n"
          ],
          "name": "stdout"
        }
      ]
    },
    {
      "cell_type": "code",
      "metadata": {
        "colab": {
          "base_uri": "https://localhost:8080/"
        },
        "id": "eyFdKsagQ2sB",
        "outputId": "622885d2-e266-4c98-c71e-d9da85f013bd"
      },
      "source": [
        "print(dir(set))"
      ],
      "execution_count": 4,
      "outputs": [
        {
          "output_type": "stream",
          "text": [
            "['__and__', '__class__', '__contains__', '__delattr__', '__dir__', '__doc__', '__eq__', '__format__', '__ge__', '__getattribute__', '__gt__', '__hash__', '__iand__', '__init__', '__init_subclass__', '__ior__', '__isub__', '__iter__', '__ixor__', '__le__', '__len__', '__lt__', '__ne__', '__new__', '__or__', '__rand__', '__reduce__', '__reduce_ex__', '__repr__', '__ror__', '__rsub__', '__rxor__', '__setattr__', '__sizeof__', '__str__', '__sub__', '__subclasshook__', '__xor__', 'add', 'clear', 'copy', 'difference', 'difference_update', 'discard', 'intersection', 'intersection_update', 'isdisjoint', 'issubset', 'issuperset', 'pop', 'remove', 'symmetric_difference', 'symmetric_difference_update', 'union', 'update']\n"
          ],
          "name": "stdout"
        }
      ]
    },
    {
      "cell_type": "code",
      "metadata": {
        "colab": {
          "base_uri": "https://localhost:8080/"
        },
        "id": "tgz6ut0UQ5oQ",
        "outputId": "f92e0cac-c055-42c9-98c3-27d6e128ef8c"
      },
      "source": [
        "s1 = {34,67,\"ramu\",0,\"lalitha\"}\n",
        "s1.add(\"prasanna\")\n",
        "print(s1)"
      ],
      "execution_count": 5,
      "outputs": [
        {
          "output_type": "stream",
          "text": [
            "{0, 'ramu', 34, 67, 'prasanna', 'lalitha'}\n"
          ],
          "name": "stdout"
        }
      ]
    },
    {
      "cell_type": "code",
      "metadata": {
        "colab": {
          "base_uri": "https://localhost:8080/"
        },
        "id": "Y6oYttTSQ8sc",
        "outputId": "dd786164-e3b4-4798-b5c3-224b506188a1"
      },
      "source": [
        "s1"
      ],
      "execution_count": 6,
      "outputs": [
        {
          "output_type": "execute_result",
          "data": {
            "text/plain": [
              "{0, 34, 67, 'lalitha', 'prasanna', 'ramu'}"
            ]
          },
          "metadata": {
            "tags": []
          },
          "execution_count": 6
        }
      ]
    },
    {
      "cell_type": "code",
      "metadata": {
        "colab": {
          "base_uri": "https://localhost:8080/",
          "height": 167
        },
        "id": "K9Om_qU1RBAK",
        "outputId": "d058fa65-0d2c-41b5-f9a9-142117caeb2e"
      },
      "source": [
        "s1[2]"
      ],
      "execution_count": 7,
      "outputs": [
        {
          "output_type": "error",
          "ename": "TypeError",
          "evalue": "ignored",
          "traceback": [
            "\u001b[0;31m---------------------------------------------------------------------------\u001b[0m",
            "\u001b[0;31mTypeError\u001b[0m                                 Traceback (most recent call last)",
            "\u001b[0;32m<ipython-input-7-7087e83d753a>\u001b[0m in \u001b[0;36m<module>\u001b[0;34m()\u001b[0m\n\u001b[0;32m----> 1\u001b[0;31m \u001b[0ms1\u001b[0m\u001b[0;34m[\u001b[0m\u001b[0;36m2\u001b[0m\u001b[0;34m]\u001b[0m\u001b[0;34m\u001b[0m\u001b[0;34m\u001b[0m\u001b[0m\n\u001b[0m",
            "\u001b[0;31mTypeError\u001b[0m: 'set' object is not subscriptable"
          ]
        }
      ]
    },
    {
      "cell_type": "code",
      "metadata": {
        "colab": {
          "base_uri": "https://localhost:8080/"
        },
        "id": "0NGo73UkRCMo",
        "outputId": "6cdc1ea2-181b-43e4-83ba-175c3cce48ff"
      },
      "source": [
        "print(s1)\n",
        "s1.pop()\n",
        "print(s1)"
      ],
      "execution_count": 8,
      "outputs": [
        {
          "output_type": "stream",
          "text": [
            "{0, 'ramu', 34, 67, 'prasanna', 'lalitha'}\n",
            "{'ramu', 34, 67, 'prasanna', 'lalitha'}\n"
          ],
          "name": "stdout"
        }
      ]
    },
    {
      "cell_type": "code",
      "metadata": {
        "colab": {
          "base_uri": "https://localhost:8080/"
        },
        "id": "amWaLOxGRIT-",
        "outputId": "3007eefa-f249-4fcb-d486-f3ae20b22328"
      },
      "source": [
        "s1"
      ],
      "execution_count": 9,
      "outputs": [
        {
          "output_type": "execute_result",
          "data": {
            "text/plain": [
              "{34, 67, 'lalitha', 'prasanna', 'ramu'}"
            ]
          },
          "metadata": {
            "tags": []
          },
          "execution_count": 9
        }
      ]
    },
    {
      "cell_type": "code",
      "metadata": {
        "colab": {
          "base_uri": "https://localhost:8080/"
        },
        "id": "xWPhCoudRKLg",
        "outputId": "a61efa39-ab8c-4987-9577-a004dd56ae30"
      },
      "source": [
        "print(s1)\n",
        "s1.pop()\n",
        "print(s1)"
      ],
      "execution_count": 10,
      "outputs": [
        {
          "output_type": "stream",
          "text": [
            "{'ramu', 34, 67, 'prasanna', 'lalitha'}\n",
            "{34, 67, 'prasanna', 'lalitha'}\n"
          ],
          "name": "stdout"
        }
      ]
    },
    {
      "cell_type": "code",
      "metadata": {
        "colab": {
          "base_uri": "https://localhost:8080/",
          "height": 220
        },
        "id": "Cj_p2LjgRNII",
        "outputId": "d3a5fbcd-bf26-451a-cef6-b9eb20893b33"
      },
      "source": [
        "print(s1)\n",
        "s1.pop('ramu')\n",
        "print(s1)"
      ],
      "execution_count": 11,
      "outputs": [
        {
          "output_type": "stream",
          "text": [
            "{34, 67, 'prasanna', 'lalitha'}\n"
          ],
          "name": "stdout"
        },
        {
          "output_type": "error",
          "ename": "TypeError",
          "evalue": "ignored",
          "traceback": [
            "\u001b[0;31m---------------------------------------------------------------------------\u001b[0m",
            "\u001b[0;31mTypeError\u001b[0m                                 Traceback (most recent call last)",
            "\u001b[0;32m<ipython-input-11-bbbfe3a07b3f>\u001b[0m in \u001b[0;36m<module>\u001b[0;34m()\u001b[0m\n\u001b[1;32m      1\u001b[0m \u001b[0mprint\u001b[0m\u001b[0;34m(\u001b[0m\u001b[0ms1\u001b[0m\u001b[0;34m)\u001b[0m\u001b[0;34m\u001b[0m\u001b[0;34m\u001b[0m\u001b[0m\n\u001b[0;32m----> 2\u001b[0;31m \u001b[0ms1\u001b[0m\u001b[0;34m.\u001b[0m\u001b[0mpop\u001b[0m\u001b[0;34m(\u001b[0m\u001b[0;34m'ramu'\u001b[0m\u001b[0;34m)\u001b[0m\u001b[0;34m\u001b[0m\u001b[0;34m\u001b[0m\u001b[0m\n\u001b[0m\u001b[1;32m      3\u001b[0m \u001b[0mprint\u001b[0m\u001b[0;34m(\u001b[0m\u001b[0ms1\u001b[0m\u001b[0;34m)\u001b[0m\u001b[0;34m\u001b[0m\u001b[0;34m\u001b[0m\u001b[0m\n",
            "\u001b[0;31mTypeError\u001b[0m: pop() takes no arguments (1 given)"
          ]
        }
      ]
    },
    {
      "cell_type": "code",
      "metadata": {
        "colab": {
          "base_uri": "https://localhost:8080/",
          "height": 220
        },
        "id": "iYMquIjWRShp",
        "outputId": "7473f115-08c9-4e3b-baf8-eea15aa5f856"
      },
      "source": [
        "print(s1)\n",
        "s1.remove('ramu')\n",
        "print(s1)"
      ],
      "execution_count": 12,
      "outputs": [
        {
          "output_type": "stream",
          "text": [
            "{34, 67, 'prasanna', 'lalitha'}\n"
          ],
          "name": "stdout"
        },
        {
          "output_type": "error",
          "ename": "KeyError",
          "evalue": "ignored",
          "traceback": [
            "\u001b[0;31m---------------------------------------------------------------------------\u001b[0m",
            "\u001b[0;31mKeyError\u001b[0m                                  Traceback (most recent call last)",
            "\u001b[0;32m<ipython-input-12-6e5e3d767488>\u001b[0m in \u001b[0;36m<module>\u001b[0;34m()\u001b[0m\n\u001b[1;32m      1\u001b[0m \u001b[0mprint\u001b[0m\u001b[0;34m(\u001b[0m\u001b[0ms1\u001b[0m\u001b[0;34m)\u001b[0m\u001b[0;34m\u001b[0m\u001b[0;34m\u001b[0m\u001b[0m\n\u001b[0;32m----> 2\u001b[0;31m \u001b[0ms1\u001b[0m\u001b[0;34m.\u001b[0m\u001b[0mremove\u001b[0m\u001b[0;34m(\u001b[0m\u001b[0;34m'ramu'\u001b[0m\u001b[0;34m)\u001b[0m\u001b[0;34m\u001b[0m\u001b[0;34m\u001b[0m\u001b[0m\n\u001b[0m\u001b[1;32m      3\u001b[0m \u001b[0mprint\u001b[0m\u001b[0;34m(\u001b[0m\u001b[0ms1\u001b[0m\u001b[0;34m)\u001b[0m\u001b[0;34m\u001b[0m\u001b[0;34m\u001b[0m\u001b[0m\n",
            "\u001b[0;31mKeyError\u001b[0m: 'ramu'"
          ]
        }
      ]
    },
    {
      "cell_type": "code",
      "metadata": {
        "colab": {
          "base_uri": "https://localhost:8080/"
        },
        "id": "jCYibq5ORXPt",
        "outputId": "aead6475-d438-4d0a-8146-23865232ed7d"
      },
      "source": [
        "print(s1)\n",
        "s1.remove(\"prasanna\")\n",
        "print(s1)"
      ],
      "execution_count": 13,
      "outputs": [
        {
          "output_type": "stream",
          "text": [
            "{34, 67, 'prasanna', 'lalitha'}\n",
            "{34, 67, 'lalitha'}\n"
          ],
          "name": "stdout"
        }
      ]
    },
    {
      "cell_type": "code",
      "metadata": {
        "colab": {
          "base_uri": "https://localhost:8080/",
          "height": 220
        },
        "id": "vzkov4F1RiW0",
        "outputId": "ea97301a-97a1-4f8f-9a35-eb3aef24523b"
      },
      "source": [
        "print(s1)\n",
        "s1.remove(2)\n",
        "print(s1)"
      ],
      "execution_count": 14,
      "outputs": [
        {
          "output_type": "stream",
          "text": [
            "{34, 67, 'lalitha'}\n"
          ],
          "name": "stdout"
        },
        {
          "output_type": "error",
          "ename": "KeyError",
          "evalue": "ignored",
          "traceback": [
            "\u001b[0;31m---------------------------------------------------------------------------\u001b[0m",
            "\u001b[0;31mKeyError\u001b[0m                                  Traceback (most recent call last)",
            "\u001b[0;32m<ipython-input-14-4f9f14db1426>\u001b[0m in \u001b[0;36m<module>\u001b[0;34m()\u001b[0m\n\u001b[1;32m      1\u001b[0m \u001b[0mprint\u001b[0m\u001b[0;34m(\u001b[0m\u001b[0ms1\u001b[0m\u001b[0;34m)\u001b[0m\u001b[0;34m\u001b[0m\u001b[0;34m\u001b[0m\u001b[0m\n\u001b[0;32m----> 2\u001b[0;31m \u001b[0ms1\u001b[0m\u001b[0;34m.\u001b[0m\u001b[0mremove\u001b[0m\u001b[0;34m(\u001b[0m\u001b[0;36m2\u001b[0m\u001b[0;34m)\u001b[0m\u001b[0;34m\u001b[0m\u001b[0;34m\u001b[0m\u001b[0m\n\u001b[0m\u001b[1;32m      3\u001b[0m \u001b[0mprint\u001b[0m\u001b[0;34m(\u001b[0m\u001b[0ms1\u001b[0m\u001b[0;34m)\u001b[0m\u001b[0;34m\u001b[0m\u001b[0;34m\u001b[0m\u001b[0m\n",
            "\u001b[0;31mKeyError\u001b[0m: 2"
          ]
        }
      ]
    },
    {
      "cell_type": "code",
      "metadata": {
        "colab": {
          "base_uri": "https://localhost:8080/"
        },
        "id": "PeTf27IXRm58",
        "outputId": "b57a371d-ac82-4dfa-929a-71d27739cb85"
      },
      "source": [
        "s2 = {45,8,32,5,6}\n",
        "s3 = {1,2,5,7,6,123,456}\n",
        "print(s2)\n",
        "print(s3)\n",
        "print(s3.union(s2))\n",
        "print(s2)\n",
        "print(s3)"
      ],
      "execution_count": 15,
      "outputs": [
        {
          "output_type": "stream",
          "text": [
            "{32, 5, 6, 8, 45}\n",
            "{1, 2, 5, 6, 7, 456, 123}\n",
            "{32, 1, 2, 5, 6, 7, 456, 8, 45, 123}\n",
            "{32, 5, 6, 8, 45}\n",
            "{1, 2, 5, 6, 7, 456, 123}\n"
          ],
          "name": "stdout"
        }
      ]
    },
    {
      "cell_type": "code",
      "metadata": {
        "colab": {
          "base_uri": "https://localhost:8080/"
        },
        "id": "2J84A0E1Rpw9",
        "outputId": "cf0b65d3-11c7-4620-af0c-d3e046d7a6f1"
      },
      "source": [
        "print(s2)\n",
        "print(s3)\n",
        "print(s3.intersection(s2))\n",
        "print(s2)\n",
        "print(s3)"
      ],
      "execution_count": 16,
      "outputs": [
        {
          "output_type": "stream",
          "text": [
            "{32, 5, 6, 8, 45}\n",
            "{1, 2, 5, 6, 7, 456, 123}\n",
            "{5, 6}\n",
            "{32, 5, 6, 8, 45}\n",
            "{1, 2, 5, 6, 7, 456, 123}\n"
          ],
          "name": "stdout"
        }
      ]
    },
    {
      "cell_type": "code",
      "metadata": {
        "colab": {
          "base_uri": "https://localhost:8080/"
        },
        "id": "J7ytFGwNRvYK",
        "outputId": "a3b9ad34-8bc4-4171-a28a-b29c099f898e"
      },
      "source": [
        "t = {'name':(\"ramu\",\"suresh\",\"tejaswini\"),'age':20,'sal':[24.500,48.560]}\n",
        "print(t,type(t))"
      ],
      "execution_count": 17,
      "outputs": [
        {
          "output_type": "stream",
          "text": [
            "{'name': ('ramu', 'suresh', 'tejaswini'), 'age': 20, 'sal': [24.5, 48.56]} <class 'dict'>\n"
          ],
          "name": "stdout"
        }
      ]
    },
    {
      "cell_type": "code",
      "metadata": {
        "colab": {
          "base_uri": "https://localhost:8080/"
        },
        "id": "kVVt6wI8Rz4w",
        "outputId": "da88fc5c-fc50-4fc0-dade-a8e956fb2b3b"
      },
      "source": [
        "print(t['sal'][0])"
      ],
      "execution_count": 18,
      "outputs": [
        {
          "output_type": "stream",
          "text": [
            "24.5\n"
          ],
          "name": "stdout"
        }
      ]
    },
    {
      "cell_type": "code",
      "metadata": {
        "colab": {
          "base_uri": "https://localhost:8080/"
        },
        "id": "SRVqN5MWR3Es",
        "outputId": "b78d96e6-9ab6-4b8d-9a1a-44ec2d9a29aa"
      },
      "source": [
        "print(dir(dict))"
      ],
      "execution_count": 19,
      "outputs": [
        {
          "output_type": "stream",
          "text": [
            "['__class__', '__contains__', '__delattr__', '__delitem__', '__dir__', '__doc__', '__eq__', '__format__', '__ge__', '__getattribute__', '__getitem__', '__gt__', '__hash__', '__init__', '__init_subclass__', '__iter__', '__le__', '__len__', '__lt__', '__ne__', '__new__', '__reduce__', '__reduce_ex__', '__repr__', '__setattr__', '__setitem__', '__sizeof__', '__str__', '__subclasshook__', 'clear', 'copy', 'fromkeys', 'get', 'items', 'keys', 'pop', 'popitem', 'setdefault', 'update', 'values']\n"
          ],
          "name": "stdout"
        }
      ]
    },
    {
      "cell_type": "code",
      "metadata": {
        "colab": {
          "base_uri": "https://localhost:8080/"
        },
        "id": "9dxKpiEyR5-H",
        "outputId": "d9ab77a9-40d0-413d-f69f-49e372dc178d"
      },
      "source": [
        "print(t.keys())"
      ],
      "execution_count": 20,
      "outputs": [
        {
          "output_type": "stream",
          "text": [
            "dict_keys(['name', 'age', 'sal'])\n"
          ],
          "name": "stdout"
        }
      ]
    },
    {
      "cell_type": "code",
      "metadata": {
        "colab": {
          "base_uri": "https://localhost:8080/"
        },
        "id": "Sh9H1tECSAlc",
        "outputId": "1bb5c44d-9037-4e6d-c02a-d625bc1cf514"
      },
      "source": [
        "print(t.values())\n"
      ],
      "execution_count": 21,
      "outputs": [
        {
          "output_type": "stream",
          "text": [
            "dict_values([('ramu', 'suresh', 'tejaswini'), 20, [24.5, 48.56]])\n"
          ],
          "name": "stdout"
        }
      ]
    },
    {
      "cell_type": "code",
      "metadata": {
        "colab": {
          "base_uri": "https://localhost:8080/"
        },
        "id": "JRvWsQDDSDLu",
        "outputId": "59f16550-6fdd-4df9-c0d0-5c1626f7c733"
      },
      "source": [
        "y = {'name':\"tilak\",\"age\":[45,59],\"sal\":0}\n",
        "print(y)"
      ],
      "execution_count": 22,
      "outputs": [
        {
          "output_type": "stream",
          "text": [
            "{'name': 'tilak', 'age': [45, 59], 'sal': 0}\n"
          ],
          "name": "stdout"
        }
      ]
    },
    {
      "cell_type": "code",
      "metadata": {
        "colab": {
          "base_uri": "https://localhost:8080/"
        },
        "id": "7GeldF2YSMCx",
        "outputId": "f3bb6dc0-9a9a-4fa9-c880-e88a4da8c11d"
      },
      "source": [
        "print(t.items())"
      ],
      "execution_count": 23,
      "outputs": [
        {
          "output_type": "stream",
          "text": [
            "dict_items([('name', ('ramu', 'suresh', 'tejaswini')), ('age', 20), ('sal', [24.5, 48.56])])\n"
          ],
          "name": "stdout"
        }
      ]
    },
    {
      "cell_type": "code",
      "metadata": {
        "colab": {
          "base_uri": "https://localhost:8080/",
          "height": 167
        },
        "id": "EJ51qzbGSPF1",
        "outputId": "756c76a9-3a8a-427a-9e9b-14f58e9d0973"
      },
      "source": [
        "[(key,value),(),()]"
      ],
      "execution_count": 24,
      "outputs": [
        {
          "output_type": "error",
          "ename": "NameError",
          "evalue": "ignored",
          "traceback": [
            "\u001b[0;31m---------------------------------------------------------------------------\u001b[0m",
            "\u001b[0;31mNameError\u001b[0m                                 Traceback (most recent call last)",
            "\u001b[0;32m<ipython-input-24-b06363734062>\u001b[0m in \u001b[0;36m<module>\u001b[0;34m()\u001b[0m\n\u001b[0;32m----> 1\u001b[0;31m \u001b[0;34m[\u001b[0m\u001b[0;34m(\u001b[0m\u001b[0mkey\u001b[0m\u001b[0;34m,\u001b[0m\u001b[0mvalue\u001b[0m\u001b[0;34m)\u001b[0m\u001b[0;34m,\u001b[0m\u001b[0;34m(\u001b[0m\u001b[0;34m)\u001b[0m\u001b[0;34m,\u001b[0m\u001b[0;34m(\u001b[0m\u001b[0;34m)\u001b[0m\u001b[0;34m]\u001b[0m\u001b[0;34m\u001b[0m\u001b[0;34m\u001b[0m\u001b[0m\n\u001b[0m",
            "\u001b[0;31mNameError\u001b[0m: name 'key' is not defined"
          ]
        }
      ]
    },
    {
      "cell_type": "code",
      "metadata": {
        "colab": {
          "base_uri": "https://localhost:8080/"
        },
        "id": "F0t-rKbNSTpC",
        "outputId": "be5c7453-2c53-457b-fa30-76fb83a1286f"
      },
      "source": [
        "print(t.get('name'))\n",
        "print(t.get('age'))\n",
        "print(t.get('no'))"
      ],
      "execution_count": 25,
      "outputs": [
        {
          "output_type": "stream",
          "text": [
            "('ramu', 'suresh', 'tejaswini')\n",
            "20\n",
            "None\n"
          ],
          "name": "stdout"
        }
      ]
    },
    {
      "cell_type": "code",
      "metadata": {
        "colab": {
          "base_uri": "https://localhost:8080/"
        },
        "id": "2MHUHiBKSWns",
        "outputId": "b104b423-2433-4215-e40b-c79a0b54eeef"
      },
      "source": [
        "print(t)"
      ],
      "execution_count": 26,
      "outputs": [
        {
          "output_type": "stream",
          "text": [
            "{'name': ('ramu', 'suresh', 'tejaswini'), 'age': 20, 'sal': [24.5, 48.56]}\n"
          ],
          "name": "stdout"
        }
      ]
    },
    {
      "cell_type": "code",
      "metadata": {
        "colab": {
          "base_uri": "https://localhost:8080/"
        },
        "id": "x4RhC07aSblT",
        "outputId": "a2be54de-a0ad-46f8-ed67-71c1aa5ceb5e"
      },
      "source": [
        "print(t)\n",
        "t['no'] = [12,78,89,450]\n",
        "print(t)"
      ],
      "execution_count": 27,
      "outputs": [
        {
          "output_type": "stream",
          "text": [
            "{'name': ('ramu', 'suresh', 'tejaswini'), 'age': 20, 'sal': [24.5, 48.56]}\n",
            "{'name': ('ramu', 'suresh', 'tejaswini'), 'age': 20, 'sal': [24.5, 48.56], 'no': [12, 78, 89, 450]}\n"
          ],
          "name": "stdout"
        }
      ]
    },
    {
      "cell_type": "code",
      "metadata": {
        "colab": {
          "base_uri": "https://localhost:8080/"
        },
        "id": "sCNdFZ7FShAe",
        "outputId": "62628f2b-873b-4118-ad8f-4564dd3def39"
      },
      "source": [
        "print(t)\n",
        "t['no'] = \"yamini\"\n",
        "print(t)"
      ],
      "execution_count": 28,
      "outputs": [
        {
          "output_type": "stream",
          "text": [
            "{'name': ('ramu', 'suresh', 'tejaswini'), 'age': 20, 'sal': [24.5, 48.56], 'no': [12, 78, 89, 450]}\n",
            "{'name': ('ramu', 'suresh', 'tejaswini'), 'age': 20, 'sal': [24.5, 48.56], 'no': 'yamini'}\n"
          ],
          "name": "stdout"
        }
      ]
    },
    {
      "cell_type": "code",
      "metadata": {
        "colab": {
          "base_uri": "https://localhost:8080/"
        },
        "id": "_pApK6ueSnAa",
        "outputId": "ad784cdd-aa0f-4923-9025-3c8b00a751cc"
      },
      "source": [
        "print(t)\n",
        "t.setdefault('tr')\n",
        "print(t)"
      ],
      "execution_count": 29,
      "outputs": [
        {
          "output_type": "stream",
          "text": [
            "{'name': ('ramu', 'suresh', 'tejaswini'), 'age': 20, 'sal': [24.5, 48.56], 'no': 'yamini'}\n",
            "{'name': ('ramu', 'suresh', 'tejaswini'), 'age': 20, 'sal': [24.5, 48.56], 'no': 'yamini', 'tr': None}\n"
          ],
          "name": "stdout"
        }
      ]
    },
    {
      "cell_type": "code",
      "metadata": {
        "colab": {
          "base_uri": "https://localhost:8080/"
        },
        "id": "bpk5fHcCSqxp",
        "outputId": "7988d618-61d0-4362-c7b3-50c99c657a88"
      },
      "source": [
        "print(t)\n",
        "t.update({'tr':45})\n",
        "print(t)"
      ],
      "execution_count": 30,
      "outputs": [
        {
          "output_type": "stream",
          "text": [
            "{'name': ('ramu', 'suresh', 'tejaswini'), 'age': 20, 'sal': [24.5, 48.56], 'no': 'yamini', 'tr': None}\n",
            "{'name': ('ramu', 'suresh', 'tejaswini'), 'age': 20, 'sal': [24.5, 48.56], 'no': 'yamini', 'tr': 45}\n"
          ],
          "name": "stdout"
        }
      ]
    },
    {
      "cell_type": "code",
      "metadata": {
        "colab": {
          "base_uri": "https://localhost:8080/"
        },
        "id": "LjcsvF1xSvXh",
        "outputId": "1194caa1-ea66-4924-d0eb-f0eb4fe2c3ed"
      },
      "source": [
        "print(t)"
      ],
      "execution_count": 31,
      "outputs": [
        {
          "output_type": "stream",
          "text": [
            "{'name': ('ramu', 'suresh', 'tejaswini'), 'age': 20, 'sal': [24.5, 48.56], 'no': 'yamini', 'tr': 45}\n"
          ],
          "name": "stdout"
        }
      ]
    },
    {
      "cell_type": "code",
      "metadata": {
        "colab": {
          "base_uri": "https://localhost:8080/"
        },
        "id": "eykxYuMwS0EU",
        "outputId": "8f3e0db9-f292-4d99-96a0-dc2a758bea52"
      },
      "source": [
        "print(t.update({'tr':\"ramu\"}))"
      ],
      "execution_count": 32,
      "outputs": [
        {
          "output_type": "stream",
          "text": [
            "None\n"
          ],
          "name": "stdout"
        }
      ]
    },
    {
      "cell_type": "code",
      "metadata": {
        "colab": {
          "base_uri": "https://localhost:8080/"
        },
        "id": "yY3wPgmbS4cF",
        "outputId": "d98b7307-b93c-49aa-894f-bc4dc6747a03"
      },
      "source": [
        "print(t)"
      ],
      "execution_count": 33,
      "outputs": [
        {
          "output_type": "stream",
          "text": [
            "{'name': ('ramu', 'suresh', 'tejaswini'), 'age': 20, 'sal': [24.5, 48.56], 'no': 'yamini', 'tr': 'ramu'}\n"
          ],
          "name": "stdout"
        }
      ]
    },
    {
      "cell_type": "code",
      "metadata": {
        "colab": {
          "base_uri": "https://localhost:8080/"
        },
        "id": "JJ7-AtOBS8QA",
        "outputId": "c1d79eff-ff59-4ed3-803c-12ee1a5cbf8a"
      },
      "source": [
        "print(t)\n",
        "print(t.pop('age'))\n",
        "print(t)"
      ],
      "execution_count": 34,
      "outputs": [
        {
          "output_type": "stream",
          "text": [
            "{'name': ('ramu', 'suresh', 'tejaswini'), 'age': 20, 'sal': [24.5, 48.56], 'no': 'yamini', 'tr': 'ramu'}\n",
            "20\n",
            "{'name': ('ramu', 'suresh', 'tejaswini'), 'sal': [24.5, 48.56], 'no': 'yamini', 'tr': 'ramu'}\n"
          ],
          "name": "stdout"
        }
      ]
    },
    {
      "cell_type": "code",
      "metadata": {
        "colab": {
          "base_uri": "https://localhost:8080/"
        },
        "id": "RrgcA7m6TCJj",
        "outputId": "872227be-24d7-4b42-a42f-8d2af9ad3815"
      },
      "source": [
        "print(t)\n",
        "print(t.popitem())\n",
        "print(t)"
      ],
      "execution_count": 35,
      "outputs": [
        {
          "output_type": "stream",
          "text": [
            "{'name': ('ramu', 'suresh', 'tejaswini'), 'sal': [24.5, 48.56], 'no': 'yamini', 'tr': 'ramu'}\n",
            "('tr', 'ramu')\n",
            "{'name': ('ramu', 'suresh', 'tejaswini'), 'sal': [24.5, 48.56], 'no': 'yamini'}\n"
          ],
          "name": "stdout"
        }
      ]
    },
    {
      "cell_type": "code",
      "metadata": {
        "colab": {
          "base_uri": "https://localhost:8080/"
        },
        "id": "ICXDuDcmTGyd",
        "outputId": "62285f34-8ad0-4a4b-f5d1-a5475ddda8a4"
      },
      "source": [
        "q = ['name','age','sal']\n",
        "w = 78\n",
        "print(q)\n",
        "print(w)\n",
        "f= {}\n",
        "f.fromkeys(q,w)\n",
        "print(f)"
      ],
      "execution_count": 36,
      "outputs": [
        {
          "output_type": "stream",
          "text": [
            "['name', 'age', 'sal']\n",
            "78\n",
            "{}\n"
          ],
          "name": "stdout"
        }
      ]
    },
    {
      "cell_type": "code",
      "metadata": {
        "colab": {
          "base_uri": "https://localhost:8080/"
        },
        "id": "X7KRFxQwTMm1",
        "outputId": "a0c905c4-b647-40bf-979f-798cac3996fe"
      },
      "source": [
        "t = {'name':\"ramu\",'sno':1}\n",
        "t1 = {}\n",
        "t1 = t.fromkeys(q,w)\n",
        "print(t1)"
      ],
      "execution_count": 37,
      "outputs": [
        {
          "output_type": "stream",
          "text": [
            "{'name': 78, 'age': 78, 'sal': 78}\n"
          ],
          "name": "stdout"
        }
      ]
    },
    {
      "cell_type": "code",
      "metadata": {
        "colab": {
          "base_uri": "https://localhost:8080/"
        },
        "id": "Nn6RbnQnTKlq",
        "outputId": "cac418a3-3254-4fd4-d555-1caae2f9b9de"
      },
      "source": [
        "marks = {}.fromkeys([\"Maths\",\"Python\",\"C++\"],[0,45])\n",
        "print(marks)"
      ],
      "execution_count": 38,
      "outputs": [
        {
          "output_type": "stream",
          "text": [
            "{'Maths': [0, 45], 'Python': [0, 45], 'C++': [0, 45]}\n"
          ],
          "name": "stdout"
        }
      ]
    },
    {
      "cell_type": "code",
      "metadata": {
        "id": "A1ZLNffbTVYd"
      },
      "source": [
        ""
      ],
      "execution_count": null,
      "outputs": []
    }
  ]
}