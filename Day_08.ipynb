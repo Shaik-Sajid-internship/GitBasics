{
  "nbformat": 4,
  "nbformat_minor": 0,
  "metadata": {
    "colab": {
      "name": "Day-08.ipynb",
      "provenance": [],
      "collapsed_sections": [],
      "authorship_tag": "ABX9TyMFBDp9LUlOQ1kLY+NSKvi0",
      "include_colab_link": true
    },
    "kernelspec": {
      "name": "python3",
      "display_name": "Python 3"
    },
    "language_info": {
      "name": "python"
    }
  },
  "cells": [
    {
      "cell_type": "markdown",
      "metadata": {
        "id": "view-in-github",
        "colab_type": "text"
      },
      "source": [
        "<a href=\"https://colab.research.google.com/github/Shaik-Sajid-internship/GitBasics/blob/master/Day_08.ipynb\" target=\"_parent\"><img src=\"https://colab.research.google.com/assets/colab-badge.svg\" alt=\"Open In Colab\"/></a>"
      ]
    },
    {
      "cell_type": "code",
      "metadata": {
        "colab": {
          "base_uri": "https://localhost:8080/"
        },
        "id": "OUw8VIaiHAhm",
        "outputId": "65a2b062-43c7-4f5e-c1ff-1736ae8e3614"
      },
      "source": [
        "k=[23,45.26,\"rajesh\",23,\"somu\"]\n",
        "print(k,type(k))"
      ],
      "execution_count": 1,
      "outputs": [
        {
          "output_type": "stream",
          "text": [
            "[23, 45.26, 'rajesh', 23, 'somu'] <class 'list'>\n"
          ],
          "name": "stdout"
        }
      ]
    },
    {
      "cell_type": "code",
      "metadata": {
        "colab": {
          "base_uri": "https://localhost:8080/"
        },
        "id": "_SIk_dRtHm42",
        "outputId": "02064ee7-b6c5-44e8-c72e-c4555ea184d5"
      },
      "source": [
        "a=15\n",
        "print(a,type(a))"
      ],
      "execution_count": 2,
      "outputs": [
        {
          "output_type": "stream",
          "text": [
            "15 <class 'int'>\n"
          ],
          "name": "stdout"
        }
      ]
    },
    {
      "cell_type": "code",
      "metadata": {
        "colab": {
          "base_uri": "https://localhost:8080/",
          "height": 202
        },
        "id": "u6vyEkQpHsLZ",
        "outputId": "a7a8de6f-8273-493b-edd9-4e13e24826cf"
      },
      "source": [
        "print(k[2])\n",
        "print(k[-15])"
      ],
      "execution_count": 3,
      "outputs": [
        {
          "output_type": "stream",
          "text": [
            "rajesh\n"
          ],
          "name": "stdout"
        },
        {
          "output_type": "error",
          "ename": "IndexError",
          "evalue": "ignored",
          "traceback": [
            "\u001b[0;31m---------------------------------------------------------------------------\u001b[0m",
            "\u001b[0;31mIndexError\u001b[0m                                Traceback (most recent call last)",
            "\u001b[0;32m<ipython-input-3-281ac059db9f>\u001b[0m in \u001b[0;36m<module>\u001b[0;34m()\u001b[0m\n\u001b[1;32m      1\u001b[0m \u001b[0mprint\u001b[0m\u001b[0;34m(\u001b[0m\u001b[0mk\u001b[0m\u001b[0;34m[\u001b[0m\u001b[0;36m2\u001b[0m\u001b[0;34m]\u001b[0m\u001b[0;34m)\u001b[0m\u001b[0;34m\u001b[0m\u001b[0;34m\u001b[0m\u001b[0m\n\u001b[0;32m----> 2\u001b[0;31m \u001b[0mprint\u001b[0m\u001b[0;34m(\u001b[0m\u001b[0mk\u001b[0m\u001b[0;34m[\u001b[0m\u001b[0;34m-\u001b[0m\u001b[0;36m15\u001b[0m\u001b[0;34m]\u001b[0m\u001b[0;34m)\u001b[0m\u001b[0;34m\u001b[0m\u001b[0;34m\u001b[0m\u001b[0m\n\u001b[0m",
            "\u001b[0;31mIndexError\u001b[0m: list index out of range"
          ]
        }
      ]
    },
    {
      "cell_type": "code",
      "metadata": {
        "colab": {
          "base_uri": "https://localhost:8080/"
        },
        "id": "DTr5eD1NHwPN",
        "outputId": "08d4b768-76d1-4fe5-b6d6-8a7ea43398c7"
      },
      "source": [
        "print(type(k))"
      ],
      "execution_count": 4,
      "outputs": [
        {
          "output_type": "stream",
          "text": [
            "<class 'list'>\n"
          ],
          "name": "stdout"
        }
      ]
    },
    {
      "cell_type": "code",
      "metadata": {
        "colab": {
          "base_uri": "https://localhost:8080/"
        },
        "id": "9lJ-_t_2H16a",
        "outputId": "4fee823b-cca3-4d52-a48a-c6c9004b3b3c"
      },
      "source": [
        "print(dir(k))"
      ],
      "execution_count": 5,
      "outputs": [
        {
          "output_type": "stream",
          "text": [
            "['__add__', '__class__', '__contains__', '__delattr__', '__delitem__', '__dir__', '__doc__', '__eq__', '__format__', '__ge__', '__getattribute__', '__getitem__', '__gt__', '__hash__', '__iadd__', '__imul__', '__init__', '__init_subclass__', '__iter__', '__le__', '__len__', '__lt__', '__mul__', '__ne__', '__new__', '__reduce__', '__reduce_ex__', '__repr__', '__reversed__', '__rmul__', '__setattr__', '__setitem__', '__sizeof__', '__str__', '__subclasshook__', 'append', 'clear', 'copy', 'count', 'extend', 'index', 'insert', 'pop', 'remove', 'reverse', 'sort']\n"
          ],
          "name": "stdout"
        }
      ]
    },
    {
      "cell_type": "code",
      "metadata": {
        "colab": {
          "base_uri": "https://localhost:8080/"
        },
        "id": "XWgY559EH6sm",
        "outputId": "5fe4f6df-61ae-495b-968b-92fc9d526512"
      },
      "source": [
        "print(dir(list))"
      ],
      "execution_count": 6,
      "outputs": [
        {
          "output_type": "stream",
          "text": [
            "['__add__', '__class__', '__contains__', '__delattr__', '__delitem__', '__dir__', '__doc__', '__eq__', '__format__', '__ge__', '__getattribute__', '__getitem__', '__gt__', '__hash__', '__iadd__', '__imul__', '__init__', '__init_subclass__', '__iter__', '__le__', '__len__', '__lt__', '__mul__', '__ne__', '__new__', '__reduce__', '__reduce_ex__', '__repr__', '__reversed__', '__rmul__', '__setattr__', '__setitem__', '__sizeof__', '__str__', '__subclasshook__', 'append', 'clear', 'copy', 'count', 'extend', 'index', 'insert', 'pop', 'remove', 'reverse', 'sort']\n"
          ],
          "name": "stdout"
        }
      ]
    },
    {
      "cell_type": "code",
      "metadata": {
        "colab": {
          "base_uri": "https://localhost:8080/"
        },
        "id": "sEkcXFkvH_R3",
        "outputId": "d5cf5049-3d0a-422e-ea8e-69be01228b6e"
      },
      "source": [
        "m= [45,78,56]\n",
        "print(m)\n",
        "n= input()\n",
        "m.append(int(n))\n",
        "print(m)"
      ],
      "execution_count": 8,
      "outputs": [
        {
          "output_type": "stream",
          "text": [
            "[45, 78, 56]\n",
            "45\n",
            "[45, 78, 56, 45]\n"
          ],
          "name": "stdout"
        }
      ]
    },
    {
      "cell_type": "code",
      "metadata": {
        "colab": {
          "base_uri": "https://localhost:8080/"
        },
        "id": "Dlef87NQIKJp",
        "outputId": "55af793c-b34d-427e-d03e-ad468043dc33"
      },
      "source": [
        "n=['tarun',45,148,45.20]\n",
        "b=n.copy()\n",
        "print(b,type(b))\n",
        "n.append(\"prasad\")\n",
        "print(n)\n",
        "print(b)\n",
        "b.append(\"kumar\")\n",
        "print(n)\n",
        "print(b)"
      ],
      "execution_count": 9,
      "outputs": [
        {
          "output_type": "stream",
          "text": [
            "['tarun', 45, 148, 45.2] <class 'list'>\n",
            "['tarun', 45, 148, 45.2, 'prasad']\n",
            "['tarun', 45, 148, 45.2]\n",
            "['tarun', 45, 148, 45.2, 'prasad']\n",
            "['tarun', 45, 148, 45.2, 'kumar']\n"
          ],
          "name": "stdout"
        }
      ]
    },
    {
      "cell_type": "code",
      "metadata": {
        "colab": {
          "base_uri": "https://localhost:8080/"
        },
        "id": "nOXc9Nz_I4LE",
        "outputId": "a898e1e8-2578-4ff1-d4df-a44fa9a1eb2d"
      },
      "source": [
        "p=[12,15,12,78,'somu',89,'kiran']\n",
        "#print(p.count(1))\n",
        "#print(p.count(12))\n",
        "for n in p:\n",
        "  print(\"{} count is:{}\".format(n,p.count(n)))"
      ],
      "execution_count": 10,
      "outputs": [
        {
          "output_type": "stream",
          "text": [
            "12 count is:2\n",
            "15 count is:1\n",
            "12 count is:2\n",
            "78 count is:1\n",
            "somu count is:1\n",
            "89 count is:1\n",
            "kiran count is:1\n"
          ],
          "name": "stdout"
        }
      ]
    },
    {
      "cell_type": "code",
      "metadata": {
        "colab": {
          "base_uri": "https://localhost:8080/"
        },
        "id": "pVmCzClgJdal",
        "outputId": "01b361f5-f6d4-480d-e609-4ba254f97218"
      },
      "source": [
        "for b in range(len(p)):\n",
        "  print(b)"
      ],
      "execution_count": 11,
      "outputs": [
        {
          "output_type": "stream",
          "text": [
            "0\n",
            "1\n",
            "2\n",
            "3\n",
            "4\n",
            "5\n",
            "6\n"
          ],
          "name": "stdout"
        }
      ]
    },
    {
      "cell_type": "code",
      "metadata": {
        "colab": {
          "base_uri": "https://localhost:8080/"
        },
        "id": "Fxipht-OJhXQ",
        "outputId": "3a6a0e8f-1f66-466b-f95c-6ee2dbea1b6d"
      },
      "source": [
        "v=[78,89,1245,\"prasad\"]\n",
        "b=[\"somu\",\"tejaswini\",\"lalitha\"]\n",
        "v.extend(b)\n",
        "print(b)\n",
        "b.append(200)\n",
        "print(v)\n",
        "print(b)"
      ],
      "execution_count": 12,
      "outputs": [
        {
          "output_type": "stream",
          "text": [
            "['somu', 'tejaswini', 'lalitha']\n",
            "[78, 89, 1245, 'prasad', 'somu', 'tejaswini', 'lalitha']\n",
            "['somu', 'tejaswini', 'lalitha', 200]\n"
          ],
          "name": "stdout"
        }
      ]
    },
    {
      "cell_type": "code",
      "metadata": {
        "colab": {
          "base_uri": "https://localhost:8080/",
          "height": 167
        },
        "id": "wEVF3tRXJzC0",
        "outputId": "44993e6c-4c81-4a90-8f98-570878917718"
      },
      "source": [
        "v.index(4)"
      ],
      "execution_count": 13,
      "outputs": [
        {
          "output_type": "error",
          "ename": "ValueError",
          "evalue": "ignored",
          "traceback": [
            "\u001b[0;31m---------------------------------------------------------------------------\u001b[0m",
            "\u001b[0;31mValueError\u001b[0m                                Traceback (most recent call last)",
            "\u001b[0;32m<ipython-input-13-3c77c1adf1d1>\u001b[0m in \u001b[0;36m<module>\u001b[0;34m()\u001b[0m\n\u001b[0;32m----> 1\u001b[0;31m \u001b[0mv\u001b[0m\u001b[0;34m.\u001b[0m\u001b[0mindex\u001b[0m\u001b[0;34m(\u001b[0m\u001b[0;36m4\u001b[0m\u001b[0;34m)\u001b[0m\u001b[0;34m\u001b[0m\u001b[0;34m\u001b[0m\u001b[0m\n\u001b[0m",
            "\u001b[0;31mValueError\u001b[0m: 4 is not in list"
          ]
        }
      ]
    },
    {
      "cell_type": "code",
      "metadata": {
        "colab": {
          "base_uri": "https://localhost:8080/"
        },
        "id": "ZKlXPKAVJ8O9",
        "outputId": "37d0576b-8298-4f14-cd6c-d61033b0be53"
      },
      "source": [
        "print(v.index(\"prasad\"))"
      ],
      "execution_count": 14,
      "outputs": [
        {
          "output_type": "stream",
          "text": [
            "3\n"
          ],
          "name": "stdout"
        }
      ]
    },
    {
      "cell_type": "code",
      "metadata": {
        "colab": {
          "base_uri": "https://localhost:8080/"
        },
        "id": "Mtlxl7YpJ_Nl",
        "outputId": "65ecf0ec-ec19-4269-e4f8-0fdd121f6cb3"
      },
      "source": [
        "x=[12,15,19,750]\n",
        "x.insert(0,'rajesh')\n",
        "print(x)"
      ],
      "execution_count": 15,
      "outputs": [
        {
          "output_type": "stream",
          "text": [
            "['rajesh', 12, 15, 19, 750]\n"
          ],
          "name": "stdout"
        }
      ]
    },
    {
      "cell_type": "code",
      "metadata": {
        "colab": {
          "base_uri": "https://localhost:8080/"
        },
        "id": "KkTjIHLKKKVF",
        "outputId": "d8a8576b-e737-47e5-83cf-bc31406bef75"
      },
      "source": [
        "print(list.insert.__doc__)"
      ],
      "execution_count": 17,
      "outputs": [
        {
          "output_type": "stream",
          "text": [
            "Insert object before index.\n"
          ],
          "name": "stdout"
        }
      ]
    },
    {
      "cell_type": "code",
      "metadata": {
        "colab": {
          "base_uri": "https://localhost:8080/"
        },
        "id": "oUCyUO-HKOzC",
        "outputId": "c81e5757-4c58-4300-cb67-3f605cd9ee60"
      },
      "source": [
        "print(list.count.__doc__)"
      ],
      "execution_count": 18,
      "outputs": [
        {
          "output_type": "stream",
          "text": [
            "Return number of occurrences of value.\n"
          ],
          "name": "stdout"
        }
      ]
    },
    {
      "cell_type": "code",
      "metadata": {
        "colab": {
          "base_uri": "https://localhost:8080/"
        },
        "id": "0yEEkvYsKY1A",
        "outputId": "7a03abc5-ef2f-4429-aa0b-3f8f1a477ddc"
      },
      "source": [
        "x"
      ],
      "execution_count": 19,
      "outputs": [
        {
          "output_type": "execute_result",
          "data": {
            "text/plain": [
              "['rajesh', 12, 15, 19, 750]"
            ]
          },
          "metadata": {
            "tags": []
          },
          "execution_count": 19
        }
      ]
    },
    {
      "cell_type": "code",
      "metadata": {
        "colab": {
          "base_uri": "https://localhost:8080/"
        },
        "id": "Q14D1LM2KcCy",
        "outputId": "f33f2325-ab6f-40cf-d23d-181bfb4b88cf"
      },
      "source": [
        "help(list.insert)"
      ],
      "execution_count": 20,
      "outputs": [
        {
          "output_type": "stream",
          "text": [
            "Help on method_descriptor:\n",
            "\n",
            "insert(self, index, object, /)\n",
            "    Insert object before index.\n",
            "\n"
          ],
          "name": "stdout"
        }
      ]
    },
    {
      "cell_type": "code",
      "metadata": {
        "colab": {
          "base_uri": "https://localhost:8080/"
        },
        "id": "B3BQnFmjKfXi",
        "outputId": "7c059ded-ce65-4617-9bd5-dfa8b2ccabfc"
      },
      "source": [
        "x"
      ],
      "execution_count": 21,
      "outputs": [
        {
          "output_type": "execute_result",
          "data": {
            "text/plain": [
              "['rajesh', 12, 15, 19, 750]"
            ]
          },
          "metadata": {
            "tags": []
          },
          "execution_count": 21
        }
      ]
    },
    {
      "cell_type": "code",
      "metadata": {
        "colab": {
          "base_uri": "https://localhost:8080/"
        },
        "id": "UtBGRCsXKhjF",
        "outputId": "f7410f79-1025-40fa-8665-fa25d8d2ede8"
      },
      "source": [
        "print(x)\n",
        "x.pop()\n",
        "print(x)"
      ],
      "execution_count": 22,
      "outputs": [
        {
          "output_type": "stream",
          "text": [
            "['rajesh', 12, 15, 19, 750]\n",
            "['rajesh', 12, 15, 19]\n"
          ],
          "name": "stdout"
        }
      ]
    },
    {
      "cell_type": "code",
      "metadata": {
        "colab": {
          "base_uri": "https://localhost:8080/"
        },
        "id": "3bce8pbvKmfv",
        "outputId": "40e56f56-575d-429a-b480-aaf9616233e8"
      },
      "source": [
        "x.pop(1)"
      ],
      "execution_count": 23,
      "outputs": [
        {
          "output_type": "execute_result",
          "data": {
            "text/plain": [
              "12"
            ]
          },
          "metadata": {
            "tags": []
          },
          "execution_count": 23
        }
      ]
    },
    {
      "cell_type": "code",
      "metadata": {
        "colab": {
          "base_uri": "https://localhost:8080/"
        },
        "id": "EAWEsGs0Kpzo",
        "outputId": "a00bf8e0-c647-43c0-ff57-0da560f0e7c2"
      },
      "source": [
        "print(x)"
      ],
      "execution_count": 24,
      "outputs": [
        {
          "output_type": "stream",
          "text": [
            "['rajesh', 15, 19]\n"
          ],
          "name": "stdout"
        }
      ]
    },
    {
      "cell_type": "code",
      "metadata": {
        "colab": {
          "base_uri": "https://localhost:8080/"
        },
        "id": "WPxriH2-KsMe",
        "outputId": "eb201d0a-ab19-4a16-8ec2-5dd748168e48"
      },
      "source": [
        "y=[45,89.12,76,\"prasad\",\"srilatha\",\"ramesh\"]\n",
        "print(y)"
      ],
      "execution_count": 25,
      "outputs": [
        {
          "output_type": "stream",
          "text": [
            "[45, 89.12, 76, 'prasad', 'srilatha', 'ramesh']\n"
          ],
          "name": "stdout"
        }
      ]
    },
    {
      "cell_type": "code",
      "metadata": {
        "colab": {
          "base_uri": "https://localhost:8080/"
        },
        "id": "UgwItodFK2UM",
        "outputId": "1c3b04ba-97c2-400b-9332-1f59e5c5d386"
      },
      "source": [
        "print(y)\n",
        "y.remove(76)\n",
        "print(y)"
      ],
      "execution_count": 26,
      "outputs": [
        {
          "output_type": "stream",
          "text": [
            "[45, 89.12, 76, 'prasad', 'srilatha', 'ramesh']\n",
            "[45, 89.12, 'prasad', 'srilatha', 'ramesh']\n"
          ],
          "name": "stdout"
        }
      ]
    },
    {
      "cell_type": "code",
      "metadata": {
        "colab": {
          "base_uri": "https://localhost:8080/"
        },
        "id": "ofsW6-ylK7BN",
        "outputId": "042bd42a-3da9-486a-e787-9ecac8527572"
      },
      "source": [
        "print(y)\n",
        "y.reverse()\n",
        "print(y)"
      ],
      "execution_count": 27,
      "outputs": [
        {
          "output_type": "stream",
          "text": [
            "[45, 89.12, 'prasad', 'srilatha', 'ramesh']\n",
            "['ramesh', 'srilatha', 'prasad', 89.12, 45]\n"
          ],
          "name": "stdout"
        }
      ]
    },
    {
      "cell_type": "code",
      "metadata": {
        "colab": {
          "base_uri": "https://localhost:8080/",
          "height": 220
        },
        "id": "2--fXp7YLAJ4",
        "outputId": "caa3da17-0695-4321-d5d4-68665ebfe43c"
      },
      "source": [
        "print(y)\n",
        "y.sort()\n",
        "print(y)"
      ],
      "execution_count": 28,
      "outputs": [
        {
          "output_type": "stream",
          "text": [
            "['ramesh', 'srilatha', 'prasad', 89.12, 45]\n"
          ],
          "name": "stdout"
        },
        {
          "output_type": "error",
          "ename": "TypeError",
          "evalue": "ignored",
          "traceback": [
            "\u001b[0;31m---------------------------------------------------------------------------\u001b[0m",
            "\u001b[0;31mTypeError\u001b[0m                                 Traceback (most recent call last)",
            "\u001b[0;32m<ipython-input-28-39374b4c5f1c>\u001b[0m in \u001b[0;36m<module>\u001b[0;34m()\u001b[0m\n\u001b[1;32m      1\u001b[0m \u001b[0mprint\u001b[0m\u001b[0;34m(\u001b[0m\u001b[0my\u001b[0m\u001b[0;34m)\u001b[0m\u001b[0;34m\u001b[0m\u001b[0;34m\u001b[0m\u001b[0m\n\u001b[0;32m----> 2\u001b[0;31m \u001b[0my\u001b[0m\u001b[0;34m.\u001b[0m\u001b[0msort\u001b[0m\u001b[0;34m(\u001b[0m\u001b[0;34m)\u001b[0m\u001b[0;34m\u001b[0m\u001b[0;34m\u001b[0m\u001b[0m\n\u001b[0m\u001b[1;32m      3\u001b[0m \u001b[0mprint\u001b[0m\u001b[0;34m(\u001b[0m\u001b[0my\u001b[0m\u001b[0;34m)\u001b[0m\u001b[0;34m\u001b[0m\u001b[0;34m\u001b[0m\u001b[0m\n",
            "\u001b[0;31mTypeError\u001b[0m: '<' not supported between instances of 'float' and 'str'"
          ]
        }
      ]
    },
    {
      "cell_type": "code",
      "metadata": {
        "colab": {
          "base_uri": "https://localhost:8080/"
        },
        "id": "PzkSvRmWLJIx",
        "outputId": "82c8c7ef-1a34-4c57-eed7-2a5b7f296e7f"
      },
      "source": [
        "p=[45,2,200,1]\n",
        "print(p)\n",
        "p.sort()\n",
        "print(p)"
      ],
      "execution_count": 29,
      "outputs": [
        {
          "output_type": "stream",
          "text": [
            "[45, 2, 200, 1]\n",
            "[1, 2, 45, 200]\n"
          ],
          "name": "stdout"
        }
      ]
    },
    {
      "cell_type": "code",
      "metadata": {
        "colab": {
          "base_uri": "https://localhost:8080/"
        },
        "id": "OFUo-RCELY9E",
        "outputId": "0ebee2df-4a0a-47ef-a4ca-02d9ea8d638c"
      },
      "source": [
        "k=[45.012,40.125,0.1230]\n",
        "print(k)\n",
        "k.sort()\n",
        "print(k)"
      ],
      "execution_count": 30,
      "outputs": [
        {
          "output_type": "stream",
          "text": [
            "[45.012, 40.125, 0.123]\n",
            "[0.123, 40.125, 45.012]\n"
          ],
          "name": "stdout"
        }
      ]
    },
    {
      "cell_type": "code",
      "metadata": {
        "colab": {
          "base_uri": "https://localhost:8080/"
        },
        "id": "M4EtQLJcLk1w",
        "outputId": "17f4ef4c-6188-44b8-cfa6-911860fc3b88"
      },
      "source": [
        "s=['abdul','thilak','ramu','zeeshan']\n",
        "print(s)\n",
        "s.sort()\n",
        "print(s)"
      ],
      "execution_count": 31,
      "outputs": [
        {
          "output_type": "stream",
          "text": [
            "['abdul', 'thilak', 'ramu', 'zeeshan']\n",
            "['abdul', 'ramu', 'thilak', 'zeeshan']\n"
          ],
          "name": "stdout"
        }
      ]
    },
    {
      "cell_type": "code",
      "metadata": {
        "colab": {
          "base_uri": "https://localhost:8080/"
        },
        "id": "9dmGE3WsLxaq",
        "outputId": "a9f20b77-d056-4c55-d432-7802b1647bc1"
      },
      "source": [
        "print(s)"
      ],
      "execution_count": 32,
      "outputs": [
        {
          "output_type": "stream",
          "text": [
            "['abdul', 'ramu', 'thilak', 'zeeshan']\n"
          ],
          "name": "stdout"
        }
      ]
    },
    {
      "cell_type": "code",
      "metadata": {
        "colab": {
          "base_uri": "https://localhost:8080/"
        },
        "id": "Ygx14rOQL1Kn",
        "outputId": "99c00838-2911-479a-a33d-0a4f7478d160"
      },
      "source": [
        "d=[45,4,400]\n",
        "f=sorted(d)\n",
        "print(d)\n",
        "print(f)"
      ],
      "execution_count": 33,
      "outputs": [
        {
          "output_type": "stream",
          "text": [
            "[45, 4, 400]\n",
            "[4, 45, 400]\n"
          ],
          "name": "stdout"
        }
      ]
    },
    {
      "cell_type": "code",
      "metadata": {
        "colab": {
          "base_uri": "https://localhost:8080/",
          "height": 220
        },
        "id": "KIybRcIeL8Cg",
        "outputId": "33a6186e-e9e4-4355-96b3-850501f24841"
      },
      "source": [
        "f=[45,78,96]\n",
        "print(f)\n",
        "del f\n",
        "print(f)"
      ],
      "execution_count": 34,
      "outputs": [
        {
          "output_type": "stream",
          "text": [
            "[45, 78, 96]\n"
          ],
          "name": "stdout"
        },
        {
          "output_type": "error",
          "ename": "NameError",
          "evalue": "ignored",
          "traceback": [
            "\u001b[0;31m---------------------------------------------------------------------------\u001b[0m",
            "\u001b[0;31mNameError\u001b[0m                                 Traceback (most recent call last)",
            "\u001b[0;32m<ipython-input-34-0d7a89cdbc28>\u001b[0m in \u001b[0;36m<module>\u001b[0;34m()\u001b[0m\n\u001b[1;32m      2\u001b[0m \u001b[0mprint\u001b[0m\u001b[0;34m(\u001b[0m\u001b[0mf\u001b[0m\u001b[0;34m)\u001b[0m\u001b[0;34m\u001b[0m\u001b[0;34m\u001b[0m\u001b[0m\n\u001b[1;32m      3\u001b[0m \u001b[0;32mdel\u001b[0m \u001b[0mf\u001b[0m\u001b[0;34m\u001b[0m\u001b[0;34m\u001b[0m\u001b[0m\n\u001b[0;32m----> 4\u001b[0;31m \u001b[0mprint\u001b[0m\u001b[0;34m(\u001b[0m\u001b[0mf\u001b[0m\u001b[0;34m)\u001b[0m\u001b[0;34m\u001b[0m\u001b[0;34m\u001b[0m\u001b[0m\n\u001b[0m",
            "\u001b[0;31mNameError\u001b[0m: name 'f' is not defined"
          ]
        }
      ]
    },
    {
      "cell_type": "code",
      "metadata": {
        "colab": {
          "base_uri": "https://localhost:8080/"
        },
        "id": "gltUOtd_MELx",
        "outputId": "3323ffb9-229c-4167-bcc1-354d45de4a71"
      },
      "source": [
        "s=(12,48,79.5678,12,'tarun')\n",
        "print(s,type(s))"
      ],
      "execution_count": 36,
      "outputs": [
        {
          "output_type": "stream",
          "text": [
            "(12, 48, 79.5678, 12, 'tarun') <class 'tuple'>\n"
          ],
          "name": "stdout"
        }
      ]
    },
    {
      "cell_type": "code",
      "metadata": {
        "colab": {
          "base_uri": "https://localhost:8080/"
        },
        "id": "oLgPSsx8MQJ1",
        "outputId": "ccc9a947-e423-47fc-b7bc-f0f2101999dc"
      },
      "source": [
        "print(dir(tuple))"
      ],
      "execution_count": 37,
      "outputs": [
        {
          "output_type": "stream",
          "text": [
            "['__add__', '__class__', '__contains__', '__delattr__', '__dir__', '__doc__', '__eq__', '__format__', '__ge__', '__getattribute__', '__getitem__', '__getnewargs__', '__gt__', '__hash__', '__init__', '__init_subclass__', '__iter__', '__le__', '__len__', '__lt__', '__mul__', '__ne__', '__new__', '__reduce__', '__reduce_ex__', '__repr__', '__rmul__', '__setattr__', '__sizeof__', '__str__', '__subclasshook__', 'count', 'index']\n"
          ],
          "name": "stdout"
        }
      ]
    },
    {
      "cell_type": "code",
      "metadata": {
        "colab": {
          "base_uri": "https://localhost:8080/"
        },
        "id": "ifg2cSp0MYYz",
        "outputId": "0062546e-3f8a-4243-e753-e09befb3a6ea"
      },
      "source": [
        "print(s)\n",
        "print(s.count(12))\n",
        "print(s)"
      ],
      "execution_count": 38,
      "outputs": [
        {
          "output_type": "stream",
          "text": [
            "(12, 48, 79.5678, 12, 'tarun')\n",
            "2\n",
            "(12, 48, 79.5678, 12, 'tarun')\n"
          ],
          "name": "stdout"
        }
      ]
    },
    {
      "cell_type": "code",
      "metadata": {
        "colab": {
          "base_uri": "https://localhost:8080/"
        },
        "id": "HJPJKBj_MfK9",
        "outputId": "ef12fca9-9e50-4243-8240-002dbdec1030"
      },
      "source": [
        "s.index(48)"
      ],
      "execution_count": 39,
      "outputs": [
        {
          "output_type": "execute_result",
          "data": {
            "text/plain": [
              "1"
            ]
          },
          "metadata": {
            "tags": []
          },
          "execution_count": 39
        }
      ]
    },
    {
      "cell_type": "code",
      "metadata": {
        "colab": {
          "base_uri": "https://localhost:8080/"
        },
        "id": "dr0tDW_PMhcP",
        "outputId": "b2bd532a-908b-430f-9ef9-04668046501a"
      },
      "source": [
        "p=(45,78,12,96,56)\n",
        "d=list(p)\n",
        "print(d,type(d))\n",
        "d.sort()\n",
        "q=tuple(d)\n",
        "print(q)"
      ],
      "execution_count": 40,
      "outputs": [
        {
          "output_type": "stream",
          "text": [
            "[45, 78, 12, 96, 56] <class 'list'>\n",
            "(12, 45, 56, 78, 96)\n"
          ],
          "name": "stdout"
        }
      ]
    },
    {
      "cell_type": "code",
      "metadata": {
        "id": "tju4Jst8MyV7"
      },
      "source": [
        ""
      ],
      "execution_count": null,
      "outputs": []
    }
  ]
}