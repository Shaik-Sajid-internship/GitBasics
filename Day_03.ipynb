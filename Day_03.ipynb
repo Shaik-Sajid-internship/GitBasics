{
  "nbformat": 4,
  "nbformat_minor": 0,
  "metadata": {
    "colab": {
      "name": "Day-03.ipynb",
      "provenance": [],
      "collapsed_sections": [],
      "authorship_tag": "ABX9TyO3cBvSmalr/s+8oqYeKI7j",
      "include_colab_link": true
    },
    "kernelspec": {
      "name": "python3",
      "display_name": "Python 3"
    },
    "language_info": {
      "name": "python"
    }
  },
  "cells": [
    {
      "cell_type": "markdown",
      "metadata": {
        "id": "view-in-github",
        "colab_type": "text"
      },
      "source": [
        "<a href=\"https://colab.research.google.com/github/Shaik-Sajid-internship/GitBasics/blob/master/Day_03.ipynb\" target=\"_parent\"><img src=\"https://colab.research.google.com/assets/colab-badge.svg\" alt=\"Open In Colab\"/></a>"
      ]
    },
    {
      "cell_type": "code",
      "metadata": {
        "colab": {
          "base_uri": "https://localhost:8080/"
        },
        "id": "UutfkXiOsNKq",
        "outputId": "c6226039-cb91-491d-9392-bf74f72f2959"
      },
      "source": [
        "n=int(input(\"enter a value:\"))\n",
        "m=input(\"enter a name:\")\n",
        "print(\"entered number is:\",n)\n",
        "print(\"entered name is: \",m)"
      ],
      "execution_count": 7,
      "outputs": [
        {
          "output_type": "stream",
          "text": [
            "enter a value:15\n",
            "enter a name:rajesh\n",
            "entered number is: 15\n",
            "entered name is:  rajesh\n"
          ],
          "name": "stdout"
        }
      ]
    },
    {
      "cell_type": "code",
      "metadata": {
        "colab": {
          "base_uri": "https://localhost:8080/"
        },
        "id": "K61WvHq0siTl",
        "outputId": "1f5e4e0f-7cf4-440e-a3e6-7b8ff3db9339"
      },
      "source": [
        "n=int(input(\"enter a value:\"))\n",
        "m=input(\"enter a name:\")\n",
        "print(\"entered number is :%d\"%n)\n",
        "print(\"entered name is: %s\"%m)"
      ],
      "execution_count": 9,
      "outputs": [
        {
          "output_type": "stream",
          "text": [
            "enter a value:15\n",
            "enter a name:rajesh\n",
            "entered number is :15\n",
            "entered name is: rajesh\n"
          ],
          "name": "stdout"
        }
      ]
    },
    {
      "cell_type": "code",
      "metadata": {
        "colab": {
          "base_uri": "https://localhost:8080/"
        },
        "id": "_2Ad3iOluFkp",
        "outputId": "ccf2f72e-cd6c-40fa-8ea9-19d355033318"
      },
      "source": [
        "print(\"entered number is: %d and entered name is:%s\"%(n,m))"
      ],
      "execution_count": 12,
      "outputs": [
        {
          "output_type": "stream",
          "text": [
            "entered number is: 15 and entered name is:rajesh\n"
          ],
          "name": "stdout"
        }
      ]
    },
    {
      "cell_type": "code",
      "metadata": {
        "colab": {
          "base_uri": "https://localhost:8080/"
        },
        "id": "l-Ih-Ofvuy-P",
        "outputId": "9a6799c2-5806-43bb-ba7d-45cb889de3c7"
      },
      "source": [
        "print(\"entered number is:{} and entered name is:{}\".format(n,m))\n",
        "print(\"enterd number is:{1}\".format(n,m))\n",
        "print(\"enterd name is:{0}\".format(n,m))"
      ],
      "execution_count": 13,
      "outputs": [
        {
          "output_type": "stream",
          "text": [
            "entered number is:15 and entered name is:rajesh\n",
            "enterd number is:rajesh\n",
            "enterd name is:15\n"
          ],
          "name": "stdout"
        }
      ]
    },
    {
      "cell_type": "code",
      "metadata": {
        "colab": {
          "base_uri": "https://localhost:8080/"
        },
        "id": "Q1DJACA9vV0w",
        "outputId": "a74ee947-97b4-46f9-de00-f23b580c3384"
      },
      "source": [
        "a=20\n",
        "print(a>>2)"
      ],
      "execution_count": 14,
      "outputs": [
        {
          "output_type": "stream",
          "text": [
            "5\n"
          ],
          "name": "stdout"
        }
      ]
    },
    {
      "cell_type": "code",
      "metadata": {
        "colab": {
          "base_uri": "https://localhost:8080/"
        },
        "id": "cVorsG56vNRn",
        "outputId": "d3244b2a-1071-4b3f-83e1-9be5c0ee6d6c"
      },
      "source": [
        "n=int(input())\n",
        "if n==45:\n",
        "  print(\"entered value is:{}\".format(n))"
      ],
      "execution_count": 15,
      "outputs": [
        {
          "output_type": "stream",
          "text": [
            "45\n",
            "entered value is:45\n"
          ],
          "name": "stdout"
        }
      ]
    },
    {
      "cell_type": "code",
      "metadata": {
        "colab": {
          "base_uri": "https://localhost:8080/"
        },
        "id": "wp4tcYInvjX-",
        "outputId": "20a3bf58-dcd4-431d-99ec-bc52f5a6d481"
      },
      "source": [
        "k=int(input())\n",
        "m=int(input())\n",
        "if k==m:\n",
        "  print(\"enterd values {} and {} are equal\".format(k,m))\n",
        "else:\n",
        "  print(\"entered values {} is not equal to {}\".format(k,m))"
      ],
      "execution_count": 16,
      "outputs": [
        {
          "output_type": "stream",
          "text": [
            "12\n",
            "26\n",
            "entered values 12 is not equal to 26\n"
          ],
          "name": "stdout"
        }
      ]
    },
    {
      "cell_type": "code",
      "metadata": {
        "colab": {
          "base_uri": "https://localhost:8080/"
        },
        "id": "1iCTx-q4wBFS",
        "outputId": "eec7634c-065b-426c-b62b-a204d172127b"
      },
      "source": [
        "n=int(input())\n",
        "if (n<=200):\n",
        "  if (n==100):\n",
        "    print(\"entered value {} is equal to 100\".format(n))\n",
        "  else:\n",
        "    print(\"entered value {} is not equal to 100 but it iss lower than 200\".format(n))\n",
        "else:\n",
        "  print(\"entered value {} is greater than 200 \".format(n))"
      ],
      "execution_count": 17,
      "outputs": [
        {
          "output_type": "stream",
          "text": [
            "100\n",
            "entered value 100 is equal to 100\n"
          ],
          "name": "stdout"
        }
      ]
    },
    {
      "cell_type": "code",
      "metadata": {
        "colab": {
          "base_uri": "https://localhost:8080/"
        },
        "id": "LY1vNKccwv6K",
        "outputId": "ceea59c1-344b-47d0-f5f6-4388f4f48f95"
      },
      "source": [
        "h=int(input())\n",
        "if h%4==0:\n",
        "  print(\"enteerd value {} is divisible by 4\".format(h))\n",
        "elif h%2==0 & h%4 ==0:\n",
        "  print(\"entered vallue is {} is divisible by 2 and 4\".format(h))\n",
        "elif h%2==0:\n",
        "  print(\"entered value {} is divisible by 2\".format(h))\n",
        "else:\n",
        "  print(\"entered value {} is not divisible by 2\".format(h))"
      ],
      "execution_count": 18,
      "outputs": [
        {
          "output_type": "stream",
          "text": [
            "30\n",
            "entered vallue is 30 is divisible by 2 and 4\n"
          ],
          "name": "stdout"
        }
      ]
    },
    {
      "cell_type": "code",
      "metadata": {
        "colab": {
          "base_uri": "https://localhost:8080/"
        },
        "id": "grgWoV-4xo0S",
        "outputId": "3aa22336-026c-4db3-881e-866f92ca1b72"
      },
      "source": [
        "n=int(input(\"enter a range value:\"))\n",
        "m=int(input(\"enter a ending range value:\"))\n",
        "for b in range(n,m):\n",
        "  print(b,end=\",\")"
      ],
      "execution_count": 19,
      "outputs": [
        {
          "output_type": "stream",
          "text": [
            "enter a range value:100\n",
            "enter a ending range value:120\n",
            "100,101,102,103,104,105,106,107,108,109,110,111,112,113,114,115,116,117,118,119,"
          ],
          "name": "stdout"
        }
      ]
    },
    {
      "cell_type": "code",
      "metadata": {
        "colab": {
          "base_uri": "https://localhost:8080/"
        },
        "id": "3URIoLpnyCOs",
        "outputId": "99b4780a-e244-4682-9419-0b0d7194e4b6"
      },
      "source": [
        "n=int(input(\"enter a starting range value:\"))\n",
        "m=int(input(\"enter a ending range value:\"))\n",
        "s=int(input(\"enter a stepping value:\"))\n",
        "for b in range(n,m,s):\n",
        "  print(b,end=\",\")"
      ],
      "execution_count": 21,
      "outputs": [
        {
          "output_type": "stream",
          "text": [
            "enter a starting range value:0\n",
            "enter a ending range value:200\n",
            "enter a stepping value:70\n",
            "0,70,140,"
          ],
          "name": "stdout"
        }
      ]
    },
    {
      "cell_type": "code",
      "metadata": {
        "colab": {
          "base_uri": "https://localhost:8080/"
        },
        "id": "v7OvjG5_yerf",
        "outputId": "998e0d11-a978-4fef-cdf4-fbf896489668"
      },
      "source": [
        "n=int(input(\"enter a starting range value:\"))\n",
        "m=int(input(\"enter a ending range value:\"))\n",
        "s=int(input(\"enter a stepping value:\"))\n",
        "for b in range(n,m,-s):\n",
        "  print(b,end=\",\")"
      ],
      "execution_count": 22,
      "outputs": [
        {
          "output_type": "stream",
          "text": [
            "enter a starting range value:2\n",
            "enter a ending range value:10\n",
            "enter a stepping value:2\n"
          ],
          "name": "stdout"
        }
      ]
    },
    {
      "cell_type": "code",
      "metadata": {
        "colab": {
          "base_uri": "https://localhost:8080/"
        },
        "id": "evYmJaY1y0ja",
        "outputId": "41909101-55e8-460b-f450-da15d68c0e54"
      },
      "source": [
        "p=int(input())\n",
        "k=int(input())\n",
        "for a in range(p,k):\n",
        "  print(k-a,end=\" \")"
      ],
      "execution_count": 24,
      "outputs": [
        {
          "output_type": "stream",
          "text": [
            "1\n",
            "10\n",
            "9 8 7 6 5 4 3 2 1 "
          ],
          "name": "stdout"
        }
      ]
    },
    {
      "cell_type": "code",
      "metadata": {
        "id": "qBd6qn-dzDHw"
      },
      "source": [
        ""
      ],
      "execution_count": 24,
      "outputs": []
    }
  ]
}