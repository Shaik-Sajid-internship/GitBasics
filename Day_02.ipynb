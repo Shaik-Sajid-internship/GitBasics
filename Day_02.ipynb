{
  "nbformat": 4,
  "nbformat_minor": 0,
  "metadata": {
    "colab": {
      "name": "Day-02.ipynb",
      "provenance": [],
      "collapsed_sections": [],
      "authorship_tag": "ABX9TyPlSqij440T6jon//g6c/W6",
      "include_colab_link": true
    },
    "kernelspec": {
      "name": "python3",
      "display_name": "Python 3"
    },
    "language_info": {
      "name": "python"
    }
  },
  "cells": [
    {
      "cell_type": "markdown",
      "metadata": {
        "id": "view-in-github",
        "colab_type": "text"
      },
      "source": [
        "<a href=\"https://colab.research.google.com/github/Shaik-Sajid-internship/GitBasics/blob/master/Day_02.ipynb\" target=\"_parent\"><img src=\"https://colab.research.google.com/assets/colab-badge.svg\" alt=\"Open In Colab\"/></a>"
      ]
    },
    {
      "cell_type": "code",
      "metadata": {
        "id": "fddRhrNEouAF"
      },
      "source": [
        ""
      ],
      "execution_count": null,
      "outputs": []
    },
    {
      "cell_type": "code",
      "metadata": {
        "id": "lPL_rgKEowRM"
      },
      "source": [
        "a=10"
      ],
      "execution_count": 5,
      "outputs": []
    },
    {
      "cell_type": "code",
      "metadata": {
        "colab": {
          "base_uri": "https://localhost:8080/"
        },
        "id": "7j1xW9yWoBbQ",
        "outputId": "ebd5f2e2-1234-4d09-ed4c-e56a5da44676"
      },
      "source": [
        "a"
      ],
      "execution_count": 6,
      "outputs": [
        {
          "output_type": "execute_result",
          "data": {
            "text/plain": [
              "10"
            ]
          },
          "metadata": {
            "tags": []
          },
          "execution_count": 6
        }
      ]
    },
    {
      "cell_type": "code",
      "metadata": {
        "id": "WFgj-wcXoG4F"
      },
      "source": [
        "b=20"
      ],
      "execution_count": 7,
      "outputs": []
    },
    {
      "cell_type": "code",
      "metadata": {
        "colab": {
          "base_uri": "https://localhost:8080/"
        },
        "id": "R5GGtMbWo2Z4",
        "outputId": "d0d78f49-f912-47ac-de3b-0a540d0851e7"
      },
      "source": [
        "b"
      ],
      "execution_count": 8,
      "outputs": [
        {
          "output_type": "execute_result",
          "data": {
            "text/plain": [
              "20"
            ]
          },
          "metadata": {
            "tags": []
          },
          "execution_count": 8
        }
      ]
    },
    {
      "cell_type": "code",
      "metadata": {
        "colab": {
          "base_uri": "https://localhost:8080/"
        },
        "id": "dWGdY1SKo3WU",
        "outputId": "f38be3fb-15fb-423b-abd5-3dec012aa439"
      },
      "source": [
        "a=200\n",
        "b=\"rajesh\"\n",
        "a,b"
      ],
      "execution_count": 9,
      "outputs": [
        {
          "output_type": "execute_result",
          "data": {
            "text/plain": [
              "(200, 'rajesh')"
            ]
          },
          "metadata": {
            "tags": []
          },
          "execution_count": 9
        }
      ]
    },
    {
      "cell_type": "code",
      "metadata": {
        "colab": {
          "base_uri": "https://localhost:8080/"
        },
        "id": "j9annuIRo8Bp",
        "outputId": "9599349e-21dd-41cd-ecc8-aea81e0cf2ac"
      },
      "source": [
        "print(a,b)\n",
        "print(b,a)"
      ],
      "execution_count": 10,
      "outputs": [
        {
          "output_type": "stream",
          "text": [
            "200 rajesh\n",
            "rajesh 200\n"
          ],
          "name": "stdout"
        }
      ]
    },
    {
      "cell_type": "code",
      "metadata": {
        "id": "iengho_0o_oe"
      },
      "source": [
        "c=23.000\n",
        "t='tarun'"
      ],
      "execution_count": 11,
      "outputs": []
    },
    {
      "cell_type": "code",
      "metadata": {
        "colab": {
          "base_uri": "https://localhost:8080/"
        },
        "id": "FLVxVfQ1pHY-",
        "outputId": "b91c14e2-0028-4667-d69e-3b616ff88ef0"
      },
      "source": [
        "c,t"
      ],
      "execution_count": 12,
      "outputs": [
        {
          "output_type": "execute_result",
          "data": {
            "text/plain": [
              "(23.0, 'tarun')"
            ]
          },
          "metadata": {
            "tags": []
          },
          "execution_count": 12
        }
      ]
    },
    {
      "cell_type": "code",
      "metadata": {
        "colab": {
          "base_uri": "https://localhost:8080/"
        },
        "id": "-tmN_6R2pImP",
        "outputId": "62801ec3-b38b-4cea-ee13-2f66ed6782e8"
      },
      "source": [
        "print(c,t)"
      ],
      "execution_count": 13,
      "outputs": [
        {
          "output_type": "stream",
          "text": [
            "23.0 tarun\n"
          ],
          "name": "stdout"
        }
      ]
    },
    {
      "cell_type": "code",
      "metadata": {
        "colab": {
          "base_uri": "https://localhost:8080/"
        },
        "id": "2RpL0h3xpKE7",
        "outputId": "c5e113b5-93ff-4d1f-fa9e-60575bb640ee"
      },
      "source": [
        "c"
      ],
      "execution_count": 14,
      "outputs": [
        {
          "output_type": "execute_result",
          "data": {
            "text/plain": [
              "23.0"
            ]
          },
          "metadata": {
            "tags": []
          },
          "execution_count": 14
        }
      ]
    },
    {
      "cell_type": "code",
      "metadata": {
        "colab": {
          "base_uri": "https://localhost:8080/"
        },
        "id": "0o12IeCZpMv-",
        "outputId": "c88ce4df-07fc-4fd6-c158-ed5c6e3786e4"
      },
      "source": [
        "type(c)"
      ],
      "execution_count": 15,
      "outputs": [
        {
          "output_type": "execute_result",
          "data": {
            "text/plain": [
              "float"
            ]
          },
          "metadata": {
            "tags": []
          },
          "execution_count": 15
        }
      ]
    },
    {
      "cell_type": "code",
      "metadata": {
        "colab": {
          "base_uri": "https://localhost:8080/",
          "height": 35
        },
        "id": "H_r4EaGTpO6J",
        "outputId": "c35085a3-f8bc-4e9e-a5f6-272cf914ca36"
      },
      "source": [
        "g='12.056'\n",
        "g"
      ],
      "execution_count": 16,
      "outputs": [
        {
          "output_type": "execute_result",
          "data": {
            "application/vnd.google.colaboratory.intrinsic+json": {
              "type": "string"
            },
            "text/plain": [
              "'12.056'"
            ]
          },
          "metadata": {
            "tags": []
          },
          "execution_count": 16
        }
      ]
    },
    {
      "cell_type": "code",
      "metadata": {
        "colab": {
          "base_uri": "https://localhost:8080/"
        },
        "id": "x-pTq7CQpTb_",
        "outputId": "e5172ec8-02a6-456e-f4e6-74020ea2e599"
      },
      "source": [
        "print(g)"
      ],
      "execution_count": 17,
      "outputs": [
        {
          "output_type": "stream",
          "text": [
            "12.056\n"
          ],
          "name": "stdout"
        }
      ]
    },
    {
      "cell_type": "code",
      "metadata": {
        "colab": {
          "base_uri": "https://localhost:8080/"
        },
        "id": "NOZa8qrbpVEN",
        "outputId": "d859eb42-c149-4c7f-f2f6-c10345179dfa"
      },
      "source": [
        "type(g)"
      ],
      "execution_count": 18,
      "outputs": [
        {
          "output_type": "execute_result",
          "data": {
            "text/plain": [
              "str"
            ]
          },
          "metadata": {
            "tags": []
          },
          "execution_count": 18
        }
      ]
    },
    {
      "cell_type": "code",
      "metadata": {
        "colab": {
          "base_uri": "https://localhost:8080/"
        },
        "id": "E9fbHiNXpWZW",
        "outputId": "00bc3bc2-cccd-410a-ced4-b2b78f836480"
      },
      "source": [
        "print(type(g))"
      ],
      "execution_count": 19,
      "outputs": [
        {
          "output_type": "stream",
          "text": [
            "<class 'str'>\n"
          ],
          "name": "stdout"
        }
      ]
    },
    {
      "cell_type": "code",
      "metadata": {
        "colab": {
          "base_uri": "https://localhost:8080/"
        },
        "id": "2QUbA7RXpdFT",
        "outputId": "067dde4a-49e5-4063-bd23-ba7ced7929a4"
      },
      "source": [
        "print(type(c))"
      ],
      "execution_count": 20,
      "outputs": [
        {
          "output_type": "stream",
          "text": [
            "<class 'float'>\n"
          ],
          "name": "stdout"
        }
      ]
    },
    {
      "cell_type": "code",
      "metadata": {
        "colab": {
          "base_uri": "https://localhost:8080/"
        },
        "id": "hDIVGjo6pf5a",
        "outputId": "e14d1929-6b7d-4685-dbd9-ca8ab979be3d"
      },
      "source": [
        "print(type(a))"
      ],
      "execution_count": 21,
      "outputs": [
        {
          "output_type": "stream",
          "text": [
            "<class 'int'>\n"
          ],
          "name": "stdout"
        }
      ]
    },
    {
      "cell_type": "code",
      "metadata": {
        "colab": {
          "base_uri": "https://localhost:8080/"
        },
        "id": "EI5jsja0piNz",
        "outputId": "d00e3e36-70bb-4713-ccf4-f246a860434a"
      },
      "source": [
        "print(type(a),type(c),type(g))"
      ],
      "execution_count": 22,
      "outputs": [
        {
          "output_type": "stream",
          "text": [
            "<class 'int'> <class 'float'> <class 'str'>\n"
          ],
          "name": "stdout"
        }
      ]
    },
    {
      "cell_type": "code",
      "metadata": {
        "colab": {
          "base_uri": "https://localhost:8080/"
        },
        "id": "C6eITD0-pnzZ",
        "outputId": "81572937-3978-42cb-8214-f69263d24d6f"
      },
      "source": [
        "a=input()\n",
        "print(a,type(a))"
      ],
      "execution_count": 23,
      "outputs": [
        {
          "output_type": "stream",
          "text": [
            "20\n",
            "20 <class 'str'>\n"
          ],
          "name": "stdout"
        }
      ]
    },
    {
      "cell_type": "code",
      "metadata": {
        "colab": {
          "base_uri": "https://localhost:8080/"
        },
        "id": "QaCkYz7Gpsun",
        "outputId": "6e849181-de6a-4cb0-b87d-039ab17485d4"
      },
      "source": [
        "t=input(\"enter a value:\")\n",
        "print(t,type(t))"
      ],
      "execution_count": 24,
      "outputs": [
        {
          "output_type": "stream",
          "text": [
            "enter a value:r\n",
            "r <class 'str'>\n"
          ],
          "name": "stdout"
        }
      ]
    },
    {
      "cell_type": "code",
      "metadata": {
        "id": "Lt-gMwE5pyR9"
      },
      "source": [
        ""
      ],
      "execution_count": 24,
      "outputs": []
    },
    {
      "cell_type": "code",
      "metadata": {
        "colab": {
          "base_uri": "https://localhost:8080/"
        },
        "id": "wJVc1314pyrA",
        "outputId": "9960e3ec-66a8-4c85-b626-f2ffe0837b33"
      },
      "source": [
        "p = int(input(\"enter only integer values: \"))\n",
        "print(p,type(p))"
      ],
      "execution_count": 26,
      "outputs": [
        {
          "output_type": "stream",
          "text": [
            "enter only integer values: 78\n",
            "78 <class 'int'>\n"
          ],
          "name": "stdout"
        }
      ]
    },
    {
      "cell_type": "code",
      "metadata": {
        "id": "4l5D8nufpyxy"
      },
      "source": [
        ""
      ],
      "execution_count": 26,
      "outputs": []
    },
    {
      "cell_type": "code",
      "metadata": {
        "colab": {
          "base_uri": "https://localhost:8080/"
        },
        "id": "u12EqRMgpy4k",
        "outputId": "2f7a386a-ce16-414c-9a21-9e7f5d4d7d95"
      },
      "source": [
        "m=float(input(\"enter float values:\"))\n",
        "print(m,type(m))"
      ],
      "execution_count": 27,
      "outputs": [
        {
          "output_type": "stream",
          "text": [
            "enter float values:48.95\n",
            "48.95 <class 'float'>\n"
          ],
          "name": "stdout"
        }
      ]
    },
    {
      "cell_type": "code",
      "metadata": {
        "colab": {
          "base_uri": "https://localhost:8080/"
        },
        "id": "QNfCmhVlpy7J",
        "outputId": "b682375d-0aa8-46b7-f131-b57cccd9b1d9"
      },
      "source": [
        "q=int(input(\"enter only integer values:\"))\n",
        "k=float(input(\"enter float values:\"))\n",
        "print(\"conversion of int value is:\",float(q))\n",
        "print(\"conversion of float value is:\",int(k))\n",
        "print(\"both cases in string is:\"+\"'\"+str(q)+\" \"+\"'\"+str(k)+\"'\")"
      ],
      "execution_count": 28,
      "outputs": [
        {
          "output_type": "stream",
          "text": [
            "enter only integer values:45\n",
            "enter float values:48.0218\n",
            "conversion of int value is: 45.0\n",
            "conversion of float value is: 48\n",
            "both cases in string is:'45 '48.0218'\n"
          ],
          "name": "stdout"
        }
      ]
    },
    {
      "cell_type": "code",
      "metadata": {
        "id": "iMRviZWgpy99"
      },
      "source": [
        ""
      ],
      "execution_count": null,
      "outputs": []
    }
  ]
}