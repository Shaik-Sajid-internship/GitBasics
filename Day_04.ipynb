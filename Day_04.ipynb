{
  "nbformat": 4,
  "nbformat_minor": 0,
  "metadata": {
    "colab": {
      "name": "Day-04.ipynb",
      "provenance": [],
      "collapsed_sections": [],
      "authorship_tag": "ABX9TyMBisNFhuJEC3mbQiER/PqM",
      "include_colab_link": true
    },
    "kernelspec": {
      "name": "python3",
      "display_name": "Python 3"
    },
    "language_info": {
      "name": "python"
    }
  },
  "cells": [
    {
      "cell_type": "markdown",
      "metadata": {
        "id": "view-in-github",
        "colab_type": "text"
      },
      "source": [
        "<a href=\"https://colab.research.google.com/github/Shaik-Sajid-internship/GitBasics/blob/master/Day_04.ipynb\" target=\"_parent\"><img src=\"https://colab.research.google.com/assets/colab-badge.svg\" alt=\"Open In Colab\"/></a>"
      ]
    },
    {
      "cell_type": "markdown",
      "metadata": {
        "id": "ONh7aLcu-Nkr"
      },
      "source": [
        ""
      ]
    },
    {
      "cell_type": "markdown",
      "metadata": {
        "id": "12U_4KFf-QNZ"
      },
      "source": [
        "input:20\n",
        "output:\n",
        "        19AK1A0501\n",
        "        | | | | |\n",
        "        19AKA0509\n",
        "        19AK1A0510"
      ]
    },
    {
      "cell_type": "code",
      "metadata": {
        "colab": {
          "base_uri": "https://localhost:8080/"
        },
        "id": "ie0wQ_lE-vQR",
        "outputId": "08b2a166-9141-4072-98ea-d34d4e8de9e8"
      },
      "source": [
        "n=int(input())\n",
        "for j in range(n):\n",
        "  print(\"19AK1A05{:02}\".format(j))"
      ],
      "execution_count": 3,
      "outputs": [
        {
          "output_type": "stream",
          "text": [
            "11\n",
            "19AK1A0500\n",
            "19AK1A0501\n",
            "19AK1A0502\n",
            "19AK1A0503\n",
            "19AK1A0504\n",
            "19AK1A0505\n",
            "19AK1A0506\n",
            "19AK1A0507\n",
            "19AK1A0508\n",
            "19AK1A0509\n",
            "19AK1A0510\n"
          ],
          "name": "stdout"
        }
      ]
    },
    {
      "cell_type": "code",
      "metadata": {
        "colab": {
          "base_uri": "https://localhost:8080/"
        },
        "id": "bh7R6BJF-lcq",
        "outputId": "e8137eed-8b03-430f-c917-78877f0dffe9"
      },
      "source": [
        "n=int(input())\n",
        "i=1\n",
        "while n!=10:\n",
        "  print(n,end=\" \")\n",
        "  n=n-1"
      ],
      "execution_count": 5,
      "outputs": [
        {
          "output_type": "stream",
          "text": [
            "20\n",
            "20 19 18 17 16 15 14 13 12 11 "
          ],
          "name": "stdout"
        }
      ]
    },
    {
      "cell_type": "code",
      "metadata": {
        "colab": {
          "base_uri": "https://localhost:8080/"
        },
        "id": "CzDCFZOF-jwh",
        "outputId": "3a241a01-cca5-48b2-d022-e45710c585ba"
      },
      "source": [
        "m=int(input())\n",
        "i=1\n",
        "while m!=i:\n",
        "  print(i,end=\" \")\n",
        "  i=i+1"
      ],
      "execution_count": 6,
      "outputs": [
        {
          "output_type": "stream",
          "text": [
            "20\n",
            "1 2 3 4 5 6 7 8 9 10 11 12 13 14 15 16 17 18 19 "
          ],
          "name": "stdout"
        }
      ]
    },
    {
      "cell_type": "code",
      "metadata": {
        "id": "hQFlCyWF_2Mf"
      },
      "source": [
        ""
      ],
      "execution_count": 6,
      "outputs": []
    },
    {
      "cell_type": "markdown",
      "metadata": {
        "id": "zcD-4phQAAYM"
      },
      "source": [
        "input:1259\n",
        "output:\n",
        "        given number is:1259\n",
        "        reverse of a number:95\n",
        "21\n",
        "      given number is 1259 and i\n",
        "      ts reverse is:9521"
      ]
    },
    {
      "cell_type": "code",
      "metadata": {
        "colab": {
          "base_uri": "https://localhost:8080/"
        },
        "id": "3rMEeSYkAf_d",
        "outputId": "fe573faa-9526-43a0-e97c-1e657bfbb350"
      },
      "source": [
        "n=int(input())\n",
        "r=0\n",
        "p=n\n",
        "while n!=0:\n",
        "  r=r*10+n%10\n",
        "  n//=10\n",
        "print(\"given number is :{}\\n reverse of a number is :{}\\n\" \"given number is {} and its reverse is:{}\".format(p,r,p,r))"
      ],
      "execution_count": 7,
      "outputs": [
        {
          "output_type": "stream",
          "text": [
            "1259\n",
            "given number is :1259\n",
            " reverse of a number is :9521\n",
            "given number is 1259 and its reverse is:9521\n"
          ],
          "name": "stdout"
        }
      ]
    },
    {
      "cell_type": "code",
      "metadata": {
        "colab": {
          "base_uri": "https://localhost:8080/"
        },
        "id": "FwA_4UsDATXA",
        "outputId": "645970c5-c174-401e-d113-f5f06d013184"
      },
      "source": [
        "n=int(input())\n",
        "for k in range(n+1):\n",
        "  print(k,end=\",\")"
      ],
      "execution_count": 8,
      "outputs": [
        {
          "output_type": "stream",
          "text": [
            "10\n",
            "0,1,2,3,4,5,6,7,8,9,10,"
          ],
          "name": "stdout"
        }
      ]
    },
    {
      "cell_type": "code",
      "metadata": {
        "colab": {
          "base_uri": "https://localhost:8080/"
        },
        "id": "H0sCcMNpBOcQ",
        "outputId": "420143d1-e4ef-4eef-f9ae-0bf93b99dcc9"
      },
      "source": [
        "n=int(input())\n",
        "for h in range(n):\n",
        "  if h==5:\n",
        "    break\n",
        "  else:\n",
        "    print(h,end=\" \")\n",
        "print(\"\\n\",h)"
      ],
      "execution_count": 9,
      "outputs": [
        {
          "output_type": "stream",
          "text": [
            "100\n",
            "0 1 2 3 4 \n",
            " 5\n"
          ],
          "name": "stdout"
        }
      ]
    },
    {
      "cell_type": "code",
      "metadata": {
        "colab": {
          "base_uri": "https://localhost:8080/"
        },
        "id": "Y_crMYtKBdxM",
        "outputId": "c772f7b1-f4dd-4977-c99d-53bdc633b600"
      },
      "source": [
        "n=int(input())\n",
        "for h in range(n):\n",
        "  if h==5:\n",
        "    continue\n",
        "  else:\n",
        "    print(h,end=\",\")\n",
        "print(\"\\n\",h)"
      ],
      "execution_count": 12,
      "outputs": [
        {
          "output_type": "stream",
          "text": [
            "20\n",
            "0,1,2,3,4,6,7,8,9,10,11,12,13,14,15,16,17,18,19,\n",
            " 19\n"
          ],
          "name": "stdout"
        }
      ]
    },
    {
      "cell_type": "code",
      "metadata": {
        "colab": {
          "base_uri": "https://localhost:8080/"
        },
        "id": "Xv0z1YTbBuaE",
        "outputId": "6cea6dc0-a18a-41d5-ee34-f2202d5980d6"
      },
      "source": [
        "n=int(input())\n",
        "for b in range(n):\n",
        "  if b==0:\n",
        "    pass\n",
        "  else:\n",
        "    print(b,end=\",\")"
      ],
      "execution_count": 13,
      "outputs": [
        {
          "output_type": "stream",
          "text": [
            "10\n",
            "1,2,3,4,5,6,7,8,9,"
          ],
          "name": "stdout"
        }
      ]
    },
    {
      "cell_type": "code",
      "metadata": {
        "colab": {
          "base_uri": "https://localhost:8080/"
        },
        "id": "M0usOcRvCQtu",
        "outputId": "54889990-c83a-4bf7-c9c5-523b41172146"
      },
      "source": [
        "for i in 'hello':\n",
        "  if(i==\"e\"):\n",
        "    print('pass executed')\n",
        "    pass\n",
        "  print(i)\n",
        "print('--------')\n",
        "for i in 'hello':\n",
        "  if(i=='e'):\n",
        "    print('continue executed')\n",
        "    continue\n",
        "  print(i)\n",
        "\n"
      ],
      "execution_count": 15,
      "outputs": [
        {
          "output_type": "stream",
          "text": [
            "h\n",
            "pass executed\n",
            "e\n",
            "l\n",
            "l\n",
            "o\n",
            "--------\n",
            "h\n",
            "continue executed\n",
            "l\n",
            "l\n",
            "o\n"
          ],
          "name": "stdout"
        }
      ]
    },
    {
      "cell_type": "code",
      "metadata": {
        "colab": {
          "base_uri": "https://localhost:8080/"
        },
        "id": "4a_FsPW5C6wY",
        "outputId": "053fbc59-9d1e-4615-e49f-2b397c9bb09d"
      },
      "source": [
        "a=1\n",
        "for i in range(1,6):\n",
        "  for j in range(1,8):\n",
        "    if i==2:\n",
        "      print(\"&&\",end=\" \")\n",
        "    elif j==3:\n",
        "      print(\"||\",end=\" \")\n",
        "    elif a<=31:\n",
        "      if a%5==0:\n",
        "        print(\"##\",end=\" \")\n",
        "      elif a%2==0:\n",
        "        print(\"**\",end=\" \")\n",
        "      elif a%3==0:\n",
        "        print(\"()\",end=\" \")\n",
        "      else:\n",
        "        print(\"[]\",end=\" \")\n",
        "    else:\n",
        "      break\n",
        "    a=a+1\n",
        "  print(end=\"\\n\") "
      ],
      "execution_count": 19,
      "outputs": [
        {
          "output_type": "stream",
          "text": [
            "[] ** || ** ## ** [] \n",
            "&& && && && && && && \n",
            "## ** || ** [] ## () \n",
            "** [] || ## ** () ** \n",
            "[] ## || \n"
          ],
          "name": "stdout"
        }
      ]
    },
    {
      "cell_type": "code",
      "metadata": {
        "id": "rxYjFXhwEUCS"
      },
      "source": [
        ""
      ],
      "execution_count": null,
      "outputs": []
    }
  ]
}