{
  "nbformat": 4,
  "nbformat_minor": 0,
  "metadata": {
    "colab": {
      "name": "Day-05.ipynb",
      "provenance": [],
      "collapsed_sections": [],
      "authorship_tag": "ABX9TyNe4Yksu4q/ngJoZzCkVBc1",
      "include_colab_link": true
    },
    "kernelspec": {
      "name": "python3",
      "display_name": "Python 3"
    },
    "language_info": {
      "name": "python"
    }
  },
  "cells": [
    {
      "cell_type": "markdown",
      "metadata": {
        "id": "view-in-github",
        "colab_type": "text"
      },
      "source": [
        "<a href=\"https://colab.research.google.com/github/Shaik-Sajid-internship/GitBasics/blob/master/Day_05.ipynb\" target=\"_parent\"><img src=\"https://colab.research.google.com/assets/colab-badge.svg\" alt=\"Open In Colab\"/></a>"
      ]
    },
    {
      "cell_type": "code",
      "metadata": {
        "id": "P95wn6vtFE3t"
      },
      "source": [
        ""
      ],
      "execution_count": null,
      "outputs": []
    },
    {
      "cell_type": "markdown",
      "metadata": {
        "id": "RcaN6CkOFKWM"
      },
      "source": [
        "Day-05 git class-1"
      ]
    },
    {
      "cell_type": "code",
      "metadata": {
        "id": "_W53DgHXFN9u"
      },
      "source": [
        ""
      ],
      "execution_count": null,
      "outputs": []
    },
    {
      "cell_type": "markdown",
      "metadata": {
        "id": "kjfCBjFHFfGI"
      },
      "source": [
        "28-05-2021:\n",
        "===========\n",
        "\tGood Evening to All....\n",
        "\n",
        "\tSorry for the delay\n",
        "\n",
        "\tIf you have any doubts please reply it in chatbox\n",
        "\n",
        "\tWait for a while we are waiting for others to join the session.\n",
        "\n",
        "\tPlease intimate for your friends to join the session as soon as possible.\n",
        "\n",
        "\n",
        "\tGit and Github:\n",
        "\t===============\n",
        "\n",
        "\tGithub Download files:\n",
        "\t======================\n",
        "\t\t-> https://git-scm.com\n",
        "\n",
        "\tLocal -> Server -> Local => file -> error\n",
        "\tsample.c -> server -> sample.c\n",
        "\t\tv\t\t\t\t\tv\n",
        "\n",
        "\tsample.c -> server -> sample.c\n",
        "\t\tv\t\t\t\t\tv\n",
        "\t\td \t\t\t\t\td\n",
        "\n",
        "\tLocal -> server -> X\n",
        "\n",
        "\tDay-01:\n",
        "\temp1 -> server\n",
        "\temp2 -> server\n",
        "\tDay-02:\n",
        "\temp1 -> server\n",
        "\temp2 -> server\n",
        "\n",
        "\tDistributed Version Control:\n",
        "\t============================\n",
        "\t\tTL -> Emp1 -> Online\n",
        "\t\t\tEmp1 -> Local -> work -> Online\n",
        "\t\t\tEmp2 -> Emp1 -> sample.py -> online\n",
        "\n",
        "\tGit and Github[storage]\n",
        "\n",
        "\tgmail -> mail\n",
        "\tGithub -> create\n",
        "\n",
        "\tLocal Work:\n",
        "\t===========\n",
        "\tgit commands \n",
        "\t -> git init\n",
        "\n",
        "\tFolder -> APSSDC\n",
        "\t\t\t -> right click git bash\n",
        "\n",
        "\tls => list to display all files or fodler side by side\n",
        "\tls -a => Displays all files or folders including hidden file or folder\n",
        "\tls -l => Displays all files or folders in column format\n",
        "\tls -m => Displays all files or folders with comma seperated\n",
        "\n",
        "\tSingle file creation:\n",
        "\t\t- touch filename.extension\n",
        "\tMultiple File creation:\n",
        "\t\t- touch filename1.extension filename2.extension\n",
        "\n",
        "\tRemoving a Single file:\n",
        "\t\t- rm filename.extension\n",
        "\tRemoving Multiple Files:\n",
        "\t\t- rm filename1.extension filename2.extension\n",
        "\n",
        "\tFolder -> Directory -> repository\n",
        "\n",
        "\tStep-1:\n",
        "\t=======\n",
        "\t\t- Initialising an empty repository to work git commands\n",
        "\t\t- By default it creates a branch as \"MASTER\" or \"MAIN\"\n",
        "\n",
        "\tStep-2:\n",
        "\t=======\n",
        "\t\t- Work has been completed\n",
        "\n",
        "\n",
        "\tStep-3:\n",
        "\t=======\n",
        "\t\t- To Know the status we need to pass the command as \n",
        "\t\t\t=> git status\n",
        "\n",
        "\tUntracked: -> file created or file modified\n",
        "\t\n",
        "\tStep-4:\n",
        "\t=======\n",
        "\t\t- To Make Changes from untracked to tracked\n",
        "\t\t\t=> git add\n",
        "\t\t- Single File adding to git\n",
        "\t\t\t=> git add filename.extension\n",
        "\t\t- Multiple Files adding to git\n",
        "\t\t\t=> git add .\n",
        "\tStep-5:\n",
        "\t=======\n",
        "\t\t- To save those changes by using checkpopint as commit\n",
        "\t\t\t=> git commit -m \"something message\"\n",
        "\t\t-> message => sha => starting 7 characters\n",
        "\n",
        "\tWarning:\n",
        "\t========\n",
        "\t\t- git config user.name \"username\"\n",
        "\t\t- git config user.email \"your emailid\"\n",
        "\t\t\t\t\t(or)\n",
        "\t\t+ To access your credentails for entire folder in your local systems\n",
        "\t\t- git config --global user.name \"username\"\n",
        "\t\t- git config --global user.email \"your emailid\"\n",
        "\n",
        "\t- Tracked\n",
        "\tStaging Area: -> Tracked\n",
        "\n",
        "\tStep-6:\n",
        "\t=======\n",
        "\t\t- After configuring your email and your name in git bash then we need to update it by using git commit\n",
        "\n",
        "\t\t- git commit -m \"something message\"\n",
        "\n",
        "\tStep-7:\n",
        "\t=======\n",
        "\t\t- So after commit then we need to add remote where we need to upload your work in particular repository\n",
        "\t\t- To add we need to create the repository and copy that url of repository\n",
        "\t\t- git remote add \"remotename\" \"branchname\"\n",
        "\t\t- To check the remote \n",
        "\t\t\t=> git remote\n",
        "\t\t\tIn this it displays how many remotes are added for that folder\n",
        "\t\t- To check the fetch and push\n",
        "\t\t\t=> git remote -v\n",
        "\t\t\t-> In this it shows fetch and push\n",
        "\t\t- To remove the remote \n",
        "\t\t\t=> git remote remove \"remotename\"\n",
        "\n",
        "\tStep-8:\n",
        "\t=======\n",
        "\t\t- To push the content for online repository then we need to pass the command as\n",
        "\t\t\t=> git push \"remotename\" \"branchname\"\n",
        "\t\t- If the remotename is not added then by default \"origin\" will be created \n",
        "\t\t- If it creates an error as \"fast-forward\" then we need to unlink that repository and link to present then we need to use the command as\n",
        "\t\t\t=> git push -f \"remotename\" \"branchname\" \n",
        "\n"
      ]
    },
    {
      "cell_type": "code",
      "metadata": {
        "id": "kKqmYce0Flxy"
      },
      "source": [
        ""
      ],
      "execution_count": null,
      "outputs": []
    }
  ]
}